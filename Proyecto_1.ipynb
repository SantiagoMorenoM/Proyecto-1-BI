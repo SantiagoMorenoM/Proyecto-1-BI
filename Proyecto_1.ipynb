{
  "nbformat": 4,
  "nbformat_minor": 0,
  "metadata": {
    "colab": {
      "name": "Proyecto 1.ipynb",
      "provenance": [],
      "collapsed_sections": []
    },
    "kernelspec": {
      "name": "python3",
      "display_name": "Python 3"
    },
    "language_info": {
      "name": "python"
    }
  },
  "cells": [
    {
      "cell_type": "code",
      "metadata": {
        "colab": {
          "base_uri": "https://localhost:8080/"
        },
        "id": "ToT1ouElU9TM",
        "outputId": "17f66da6-148e-4fed-cf92-f40f81a5058d"
      },
      "source": [
        "!pip install contractions"
      ],
      "execution_count": 10,
      "outputs": [
        {
          "output_type": "stream",
          "name": "stdout",
          "text": [
            "Requirement already satisfied: contractions in /usr/local/lib/python3.7/dist-packages (0.0.52)\n",
            "Requirement already satisfied: textsearch>=0.0.21 in /usr/local/lib/python3.7/dist-packages (from contractions) (0.0.21)\n",
            "Requirement already satisfied: anyascii in /usr/local/lib/python3.7/dist-packages (from textsearch>=0.0.21->contractions) (0.3.0)\n",
            "Requirement already satisfied: pyahocorasick in /usr/local/lib/python3.7/dist-packages (from textsearch>=0.0.21->contractions) (1.4.2)\n"
          ]
        }
      ]
    },
    {
      "cell_type": "code",
      "metadata": {
        "id": "dYcoqY3EPDj2"
      },
      "source": [
        "#Librerias\n",
        "import pandas as pd\n",
        "import numpy as np\n",
        "import sys\n",
        "\n",
        "from pandas_profiling import ProfileReport\n",
        "\n",
        "import re, string, unicodedata\n",
        "import contractions\n",
        "import inflect\n",
        "from nltk import word_tokenize, sent_tokenize\n",
        "from nltk.corpus import stopwords\n",
        "from nltk.stem import LancasterStemmer, WordNetLemmatizer\n",
        "from nltk.sentiment import SentimentIntensityAnalyzer\n",
        "\n",
        "from sklearn.model_selection import train_test_split,GridSearchCV\n",
        "from sklearn.feature_extraction.text import TfidfVectorizer, CountVectorizer, HashingVectorizer\n",
        "from sklearn.pipeline import Pipeline, FeatureUnion\n",
        "from sklearn.svm import SVC\n",
        "from sklearn.ensemble import BaggingClassifier, RandomForestClassifier, AdaBoostClassifier\n",
        "from sklearn.naive_bayes import BernoulliNB\n",
        "from sklearn.metrics import classification_report, plot_precision_recall_curve\n",
        "from sklearn.metrics import confusion_matrix, classification_report, precision_score, recall_score, f1_score, accuracy_score, plot_confusion_matrix\n",
        "from sklearn.base import BaseEstimator, ClassifierMixin\n",
        "from sklearn.preprocessing import LabelEncoder\n",
        "from sklearn.neighbors import KNeighborsClassifier\n",
        "from sklearn.tree import DecisionTreeClassifier \n",
        "from sklearn.linear_model import LogisticRegression\n",
        "from sklearn.tree import DecisionTreeClassifier \n",
        "# Para realizar la separación del conjunto de aprendizaje en entrenamiento y test.\n",
        "from sklearn.model_selection import train_test_split\n",
        "# Para evaluar el modelo\n",
        "from sklearn.metrics import confusion_matrix, classification_report, precision_score, recall_score, f1_score, accuracy_score\n",
        "from sklearn.metrics import plot_confusion_matrix\n",
        "# Para búsqueda de hiperparámetros\n",
        "from sklearn.model_selection import GridSearchCV\n",
        "# Para la validación cruzada\n",
        "from sklearn.model_selection import KFold \n",
        "#Librerías para la visualización\n",
        "import matplotlib as mplt\n",
        "%matplotlib inline\n",
        "import matplotlib.pyplot as plt\n",
        "from sklearn import tree"
      ],
      "execution_count": 11,
      "outputs": []
    },
    {
      "cell_type": "code",
      "metadata": {
        "colab": {
          "base_uri": "https://localhost:8080/"
        },
        "id": "cD52NzS4VTMK",
        "outputId": "ed91002a-f626-41c3-cfe9-894c602d5bae"
      },
      "source": [
        "# librería Natural Language Toolkit, usada para trabajar con textos \n",
        "import nltk\n",
        "# Punkt permite separar un texto en frases.\n",
        "nltk.download('punkt')"
      ],
      "execution_count": 12,
      "outputs": [
        {
          "output_type": "stream",
          "name": "stdout",
          "text": [
            "[nltk_data] Downloading package punkt to /root/nltk_data...\n",
            "[nltk_data]   Package punkt is already up-to-date!\n"
          ]
        },
        {
          "output_type": "execute_result",
          "data": {
            "text/plain": [
              "True"
            ]
          },
          "metadata": {},
          "execution_count": 12
        }
      ]
    },
    {
      "cell_type": "code",
      "metadata": {
        "colab": {
          "base_uri": "https://localhost:8080/"
        },
        "id": "LR8KDWC4VZb5",
        "outputId": "bffd0dd7-5a2e-49a2-af0f-15b843fcec58"
      },
      "source": [
        "#Stopwords\n",
        "nltk.download('stopwords')"
      ],
      "execution_count": 13,
      "outputs": [
        {
          "output_type": "stream",
          "name": "stdout",
          "text": [
            "[nltk_data] Downloading package stopwords to /root/nltk_data...\n",
            "[nltk_data]   Package stopwords is already up-to-date!\n"
          ]
        },
        {
          "output_type": "execute_result",
          "data": {
            "text/plain": [
              "True"
            ]
          },
          "metadata": {},
          "execution_count": 13
        }
      ]
    },
    {
      "cell_type": "code",
      "metadata": {
        "colab": {
          "base_uri": "https://localhost:8080/"
        },
        "id": "V7kpqaoGVbHu",
        "outputId": "098ddf52-3971-445f-8ab2-53e502f0ae57"
      },
      "source": [
        "#Encuentra lema de cada palabra\n",
        "nltk.download('wordnet')"
      ],
      "execution_count": 14,
      "outputs": [
        {
          "output_type": "stream",
          "name": "stdout",
          "text": [
            "[nltk_data] Downloading package wordnet to /root/nltk_data...\n",
            "[nltk_data]   Package wordnet is already up-to-date!\n"
          ]
        },
        {
          "output_type": "execute_result",
          "data": {
            "text/plain": [
              "True"
            ]
          },
          "metadata": {},
          "execution_count": 14
        }
      ]
    },
    {
      "cell_type": "code",
      "metadata": {
        "colab": {
          "base_uri": "https://localhost:8080/"
        },
        "id": "dyjqI8DEUgqh",
        "outputId": "d8365786-bdba-496e-cd31-65db6128020d"
      },
      "source": [
        "# Descarga los otros recursos de NLTK para el análisis de sentimientos\n",
        "nltk.download([\"names\",\"averaged_perceptron_tagger\",\"vader_lexicon\"])"
      ],
      "execution_count": 15,
      "outputs": [
        {
          "output_type": "stream",
          "name": "stdout",
          "text": [
            "[nltk_data] Downloading package names to /root/nltk_data...\n",
            "[nltk_data]   Package names is already up-to-date!\n",
            "[nltk_data] Downloading package averaged_perceptron_tagger to\n",
            "[nltk_data]     /root/nltk_data...\n",
            "[nltk_data]   Package averaged_perceptron_tagger is already up-to-\n",
            "[nltk_data]       date!\n",
            "[nltk_data] Downloading package vader_lexicon to /root/nltk_data...\n",
            "[nltk_data]   Package vader_lexicon is already up-to-date!\n"
          ]
        },
        {
          "output_type": "execute_result",
          "data": {
            "text/plain": [
              "True"
            ]
          },
          "metadata": {},
          "execution_count": 15
        }
      ]
    },
    {
      "cell_type": "markdown",
      "metadata": {
        "id": "4UDTo2ZdVp0v"
      },
      "source": [
        "## Perfilamiento"
      ]
    },
    {
      "cell_type": "markdown",
      "metadata": {
        "id": "Ne33NVsmTxiA"
      },
      "source": [
        "**Moda, Min, Max y  Conteo de palabras en los tweets**"
      ]
    },
    {
      "cell_type": "code",
      "metadata": {
        "colab": {
          "base_uri": "https://localhost:8080/",
          "height": 206
        },
        "id": "7LtFm1QbVtHG",
        "outputId": "5016e995-dd47-4d51-8930-24319e129ac9"
      },
      "source": [
        "#Crear dataframe\n",
        "data=pd.read_csv('mbsaEn4.csv', sep=',', encoding = 'utf-8')\n",
        "data.head()"
      ],
      "execution_count": 16,
      "outputs": [
        {
          "output_type": "execute_result",
          "data": {
            "text/html": [
              "<div>\n",
              "<style scoped>\n",
              "    .dataframe tbody tr th:only-of-type {\n",
              "        vertical-align: middle;\n",
              "    }\n",
              "\n",
              "    .dataframe tbody tr th {\n",
              "        vertical-align: top;\n",
              "    }\n",
              "\n",
              "    .dataframe thead th {\n",
              "        text-align: right;\n",
              "    }\n",
              "</style>\n",
              "<table border=\"1\" class=\"dataframe\">\n",
              "  <thead>\n",
              "    <tr style=\"text-align: right;\">\n",
              "      <th></th>\n",
              "      <th>Date</th>\n",
              "      <th>text</th>\n",
              "      <th>Sentiment</th>\n",
              "    </tr>\n",
              "  </thead>\n",
              "  <tbody>\n",
              "    <tr>\n",
              "      <th>0</th>\n",
              "      <td>2019-05-27</td>\n",
              "      <td>Cardano: Digitize Currencies; EOS https://t.co...</td>\n",
              "      <td>Positive</td>\n",
              "    </tr>\n",
              "    <tr>\n",
              "      <th>1</th>\n",
              "      <td>2019-05-27</td>\n",
              "      <td>Another Test tweet that wasn't caught in the s...</td>\n",
              "      <td>Positive</td>\n",
              "    </tr>\n",
              "    <tr>\n",
              "      <th>2</th>\n",
              "      <td>2019-05-27</td>\n",
              "      <td>Invested my Life Savings into Bitcoin and Ethe...</td>\n",
              "      <td>Positive</td>\n",
              "    </tr>\n",
              "    <tr>\n",
              "      <th>3</th>\n",
              "      <td>2019-05-27</td>\n",
              "      <td>Bitcoin Price Hits $8,939 in New 2019 High: Wh...</td>\n",
              "      <td>Positive</td>\n",
              "    </tr>\n",
              "    <tr>\n",
              "      <th>4</th>\n",
              "      <td>2019-05-27</td>\n",
              "      <td>You have roughly 6 days left to get your #Laun...</td>\n",
              "      <td>Positive</td>\n",
              "    </tr>\n",
              "  </tbody>\n",
              "</table>\n",
              "</div>"
            ],
            "text/plain": [
              "         Date                                               text Sentiment\n",
              "0  2019-05-27  Cardano: Digitize Currencies; EOS https://t.co...  Positive\n",
              "1  2019-05-27  Another Test tweet that wasn't caught in the s...  Positive\n",
              "2  2019-05-27  Invested my Life Savings into Bitcoin and Ethe...  Positive\n",
              "3  2019-05-27  Bitcoin Price Hits $8,939 in New 2019 High: Wh...  Positive\n",
              "4  2019-05-27  You have roughly 6 days left to get your #Laun...  Positive"
            ]
          },
          "metadata": {},
          "execution_count": 16
        }
      ]
    },
    {
      "cell_type": "code",
      "metadata": {
        "id": "ePbGBKk_Vt88"
      },
      "source": [
        "data_prueba = data"
      ],
      "execution_count": 17,
      "outputs": []
    },
    {
      "cell_type": "code",
      "metadata": {
        "id": "HC1xkaF1V5dy",
        "colab": {
          "base_uri": "https://localhost:8080/",
          "height": 206
        },
        "outputId": "df0d88bd-eb80-44a5-ab8f-35521e060211"
      },
      "source": [
        "#Numero de caracteres en cada tweet\n",
        "data_prueba['Conteo'] = [len(x) for x in data_prueba['text']]\n",
        "data_prueba.head()"
      ],
      "execution_count": 18,
      "outputs": [
        {
          "output_type": "execute_result",
          "data": {
            "text/html": [
              "<div>\n",
              "<style scoped>\n",
              "    .dataframe tbody tr th:only-of-type {\n",
              "        vertical-align: middle;\n",
              "    }\n",
              "\n",
              "    .dataframe tbody tr th {\n",
              "        vertical-align: top;\n",
              "    }\n",
              "\n",
              "    .dataframe thead th {\n",
              "        text-align: right;\n",
              "    }\n",
              "</style>\n",
              "<table border=\"1\" class=\"dataframe\">\n",
              "  <thead>\n",
              "    <tr style=\"text-align: right;\">\n",
              "      <th></th>\n",
              "      <th>Date</th>\n",
              "      <th>text</th>\n",
              "      <th>Sentiment</th>\n",
              "      <th>Conteo</th>\n",
              "    </tr>\n",
              "  </thead>\n",
              "  <tbody>\n",
              "    <tr>\n",
              "      <th>0</th>\n",
              "      <td>2019-05-27</td>\n",
              "      <td>Cardano: Digitize Currencies; EOS https://t.co...</td>\n",
              "      <td>Positive</td>\n",
              "      <td>225</td>\n",
              "    </tr>\n",
              "    <tr>\n",
              "      <th>1</th>\n",
              "      <td>2019-05-27</td>\n",
              "      <td>Another Test tweet that wasn't caught in the s...</td>\n",
              "      <td>Positive</td>\n",
              "      <td>61</td>\n",
              "    </tr>\n",
              "    <tr>\n",
              "      <th>2</th>\n",
              "      <td>2019-05-27</td>\n",
              "      <td>Invested my Life Savings into Bitcoin and Ethe...</td>\n",
              "      <td>Positive</td>\n",
              "      <td>109</td>\n",
              "    </tr>\n",
              "    <tr>\n",
              "      <th>3</th>\n",
              "      <td>2019-05-27</td>\n",
              "      <td>Bitcoin Price Hits $8,939 in New 2019 High: Wh...</td>\n",
              "      <td>Positive</td>\n",
              "      <td>102</td>\n",
              "    </tr>\n",
              "    <tr>\n",
              "      <th>4</th>\n",
              "      <td>2019-05-27</td>\n",
              "      <td>You have roughly 6 days left to get your #Laun...</td>\n",
              "      <td>Positive</td>\n",
              "      <td>304</td>\n",
              "    </tr>\n",
              "  </tbody>\n",
              "</table>\n",
              "</div>"
            ],
            "text/plain": [
              "         Date  ... Conteo\n",
              "0  2019-05-27  ...    225\n",
              "1  2019-05-27  ...     61\n",
              "2  2019-05-27  ...    109\n",
              "3  2019-05-27  ...    102\n",
              "4  2019-05-27  ...    304\n",
              "\n",
              "[5 rows x 4 columns]"
            ]
          },
          "metadata": {},
          "execution_count": 18
        }
      ]
    },
    {
      "cell_type": "code",
      "metadata": {
        "id": "o-QqBnqtV6ez",
        "colab": {
          "base_uri": "https://localhost:8080/",
          "height": 206
        },
        "outputId": "e405eda8-2fd5-4bc4-f558-f8f52578ab5e"
      },
      "source": [
        "#Min: Palabra con menos caracteres\n",
        "data_prueba['Min'] = [[min([len(x) for x in i.split(' ')])][0] for i in data_prueba['text']]\n",
        "data_prueba.head()"
      ],
      "execution_count": 19,
      "outputs": [
        {
          "output_type": "execute_result",
          "data": {
            "text/html": [
              "<div>\n",
              "<style scoped>\n",
              "    .dataframe tbody tr th:only-of-type {\n",
              "        vertical-align: middle;\n",
              "    }\n",
              "\n",
              "    .dataframe tbody tr th {\n",
              "        vertical-align: top;\n",
              "    }\n",
              "\n",
              "    .dataframe thead th {\n",
              "        text-align: right;\n",
              "    }\n",
              "</style>\n",
              "<table border=\"1\" class=\"dataframe\">\n",
              "  <thead>\n",
              "    <tr style=\"text-align: right;\">\n",
              "      <th></th>\n",
              "      <th>Date</th>\n",
              "      <th>text</th>\n",
              "      <th>Sentiment</th>\n",
              "      <th>Conteo</th>\n",
              "      <th>Min</th>\n",
              "    </tr>\n",
              "  </thead>\n",
              "  <tbody>\n",
              "    <tr>\n",
              "      <th>0</th>\n",
              "      <td>2019-05-27</td>\n",
              "      <td>Cardano: Digitize Currencies; EOS https://t.co...</td>\n",
              "      <td>Positive</td>\n",
              "      <td>225</td>\n",
              "      <td>0</td>\n",
              "    </tr>\n",
              "    <tr>\n",
              "      <th>1</th>\n",
              "      <td>2019-05-27</td>\n",
              "      <td>Another Test tweet that wasn't caught in the s...</td>\n",
              "      <td>Positive</td>\n",
              "      <td>61</td>\n",
              "      <td>1</td>\n",
              "    </tr>\n",
              "    <tr>\n",
              "      <th>2</th>\n",
              "      <td>2019-05-27</td>\n",
              "      <td>Invested my Life Savings into Bitcoin and Ethe...</td>\n",
              "      <td>Positive</td>\n",
              "      <td>109</td>\n",
              "      <td>1</td>\n",
              "    </tr>\n",
              "    <tr>\n",
              "      <th>3</th>\n",
              "      <td>2019-05-27</td>\n",
              "      <td>Bitcoin Price Hits $8,939 in New 2019 High: Wh...</td>\n",
              "      <td>Positive</td>\n",
              "      <td>102</td>\n",
              "      <td>2</td>\n",
              "    </tr>\n",
              "    <tr>\n",
              "      <th>4</th>\n",
              "      <td>2019-05-27</td>\n",
              "      <td>You have roughly 6 days left to get your #Laun...</td>\n",
              "      <td>Positive</td>\n",
              "      <td>304</td>\n",
              "      <td>1</td>\n",
              "    </tr>\n",
              "  </tbody>\n",
              "</table>\n",
              "</div>"
            ],
            "text/plain": [
              "         Date                                               text  ... Conteo  Min\n",
              "0  2019-05-27  Cardano: Digitize Currencies; EOS https://t.co...  ...    225    0\n",
              "1  2019-05-27  Another Test tweet that wasn't caught in the s...  ...     61    1\n",
              "2  2019-05-27  Invested my Life Savings into Bitcoin and Ethe...  ...    109    1\n",
              "3  2019-05-27  Bitcoin Price Hits $8,939 in New 2019 High: Wh...  ...    102    2\n",
              "4  2019-05-27  You have roughly 6 days left to get your #Laun...  ...    304    1\n",
              "\n",
              "[5 rows x 5 columns]"
            ]
          },
          "metadata": {},
          "execution_count": 19
        }
      ]
    },
    {
      "cell_type": "code",
      "metadata": {
        "id": "pnBJf8CCV72n",
        "colab": {
          "base_uri": "https://localhost:8080/",
          "height": 206
        },
        "outputId": "b9b5f715-8a86-4e1d-f3b7-60a69a0c20aa"
      },
      "source": [
        "#Max: Palabra en el tweet con mayor caracteres\n",
        "data_prueba['Max'] = [[max([len(x) for x in i.split(' ')])][0] for i in data_prueba['text']]\n",
        "data_prueba.head()"
      ],
      "execution_count": 20,
      "outputs": [
        {
          "output_type": "execute_result",
          "data": {
            "text/html": [
              "<div>\n",
              "<style scoped>\n",
              "    .dataframe tbody tr th:only-of-type {\n",
              "        vertical-align: middle;\n",
              "    }\n",
              "\n",
              "    .dataframe tbody tr th {\n",
              "        vertical-align: top;\n",
              "    }\n",
              "\n",
              "    .dataframe thead th {\n",
              "        text-align: right;\n",
              "    }\n",
              "</style>\n",
              "<table border=\"1\" class=\"dataframe\">\n",
              "  <thead>\n",
              "    <tr style=\"text-align: right;\">\n",
              "      <th></th>\n",
              "      <th>Date</th>\n",
              "      <th>text</th>\n",
              "      <th>Sentiment</th>\n",
              "      <th>Conteo</th>\n",
              "      <th>Min</th>\n",
              "      <th>Max</th>\n",
              "    </tr>\n",
              "  </thead>\n",
              "  <tbody>\n",
              "    <tr>\n",
              "      <th>0</th>\n",
              "      <td>2019-05-27</td>\n",
              "      <td>Cardano: Digitize Currencies; EOS https://t.co...</td>\n",
              "      <td>Positive</td>\n",
              "      <td>225</td>\n",
              "      <td>0</td>\n",
              "      <td>23</td>\n",
              "    </tr>\n",
              "    <tr>\n",
              "      <th>1</th>\n",
              "      <td>2019-05-27</td>\n",
              "      <td>Another Test tweet that wasn't caught in the s...</td>\n",
              "      <td>Positive</td>\n",
              "      <td>61</td>\n",
              "      <td>1</td>\n",
              "      <td>7</td>\n",
              "    </tr>\n",
              "    <tr>\n",
              "      <th>2</th>\n",
              "      <td>2019-05-27</td>\n",
              "      <td>Invested my Life Savings into Bitcoin and Ethe...</td>\n",
              "      <td>Positive</td>\n",
              "      <td>109</td>\n",
              "      <td>1</td>\n",
              "      <td>23</td>\n",
              "    </tr>\n",
              "    <tr>\n",
              "      <th>3</th>\n",
              "      <td>2019-05-27</td>\n",
              "      <td>Bitcoin Price Hits $8,939 in New 2019 High: Wh...</td>\n",
              "      <td>Positive</td>\n",
              "      <td>102</td>\n",
              "      <td>2</td>\n",
              "      <td>23</td>\n",
              "    </tr>\n",
              "    <tr>\n",
              "      <th>4</th>\n",
              "      <td>2019-05-27</td>\n",
              "      <td>You have roughly 6 days left to get your #Laun...</td>\n",
              "      <td>Positive</td>\n",
              "      <td>304</td>\n",
              "      <td>1</td>\n",
              "      <td>23</td>\n",
              "    </tr>\n",
              "  </tbody>\n",
              "</table>\n",
              "</div>"
            ],
            "text/plain": [
              "         Date                                               text  ... Min  Max\n",
              "0  2019-05-27  Cardano: Digitize Currencies; EOS https://t.co...  ...   0   23\n",
              "1  2019-05-27  Another Test tweet that wasn't caught in the s...  ...   1    7\n",
              "2  2019-05-27  Invested my Life Savings into Bitcoin and Ethe...  ...   1   23\n",
              "3  2019-05-27  Bitcoin Price Hits $8,939 in New 2019 High: Wh...  ...   2   23\n",
              "4  2019-05-27  You have roughly 6 days left to get your #Laun...  ...   1   23\n",
              "\n",
              "[5 rows x 6 columns]"
            ]
          },
          "metadata": {},
          "execution_count": 20
        }
      ]
    },
    {
      "cell_type": "code",
      "metadata": {
        "id": "U5WUvMcdV9WP"
      },
      "source": [
        "#Mode\n",
        "from collections import Counter\n",
        "from itertools import groupby\n",
        "\n"
      ],
      "execution_count": 21,
      "outputs": []
    },
    {
      "cell_type": "code",
      "metadata": {
        "id": "r_sgLQv3WGCS"
      },
      "source": [
        "from collections import Counter\n",
        " \n",
        "def most_frequent(List):\n",
        "    occurence_count = Counter(List)\n",
        "    return occurence_count.most_common(1)[0][0]\n",
        "\n"
      ],
      "execution_count": 22,
      "outputs": []
    },
    {
      "cell_type": "code",
      "metadata": {
        "id": "sFDu6XgqYA1_",
        "colab": {
          "base_uri": "https://localhost:8080/",
          "height": 206
        },
        "outputId": "5fdfb899-bd6b-44ec-8ca3-4e526209079c"
      },
      "source": [
        "#Moda: Palabra mas repetida en cada tweet\n",
        "data_prueba['Mode'] = [most_frequent([x for x in i.split(' ')]) for i in data_prueba['text']]\n",
        "data_prueba.head()"
      ],
      "execution_count": 23,
      "outputs": [
        {
          "output_type": "execute_result",
          "data": {
            "text/html": [
              "<div>\n",
              "<style scoped>\n",
              "    .dataframe tbody tr th:only-of-type {\n",
              "        vertical-align: middle;\n",
              "    }\n",
              "\n",
              "    .dataframe tbody tr th {\n",
              "        vertical-align: top;\n",
              "    }\n",
              "\n",
              "    .dataframe thead th {\n",
              "        text-align: right;\n",
              "    }\n",
              "</style>\n",
              "<table border=\"1\" class=\"dataframe\">\n",
              "  <thead>\n",
              "    <tr style=\"text-align: right;\">\n",
              "      <th></th>\n",
              "      <th>Date</th>\n",
              "      <th>text</th>\n",
              "      <th>Sentiment</th>\n",
              "      <th>Conteo</th>\n",
              "      <th>Min</th>\n",
              "      <th>Max</th>\n",
              "      <th>Mode</th>\n",
              "    </tr>\n",
              "  </thead>\n",
              "  <tbody>\n",
              "    <tr>\n",
              "      <th>0</th>\n",
              "      <td>2019-05-27</td>\n",
              "      <td>Cardano: Digitize Currencies; EOS https://t.co...</td>\n",
              "      <td>Positive</td>\n",
              "      <td>225</td>\n",
              "      <td>0</td>\n",
              "      <td>23</td>\n",
              "      <td></td>\n",
              "    </tr>\n",
              "    <tr>\n",
              "      <th>1</th>\n",
              "      <td>2019-05-27</td>\n",
              "      <td>Another Test tweet that wasn't caught in the s...</td>\n",
              "      <td>Positive</td>\n",
              "      <td>61</td>\n",
              "      <td>1</td>\n",
              "      <td>7</td>\n",
              "      <td>Another</td>\n",
              "    </tr>\n",
              "    <tr>\n",
              "      <th>2</th>\n",
              "      <td>2019-05-27</td>\n",
              "      <td>Invested my Life Savings into Bitcoin and Ethe...</td>\n",
              "      <td>Positive</td>\n",
              "      <td>109</td>\n",
              "      <td>1</td>\n",
              "      <td>23</td>\n",
              "      <td>Invested</td>\n",
              "    </tr>\n",
              "    <tr>\n",
              "      <th>3</th>\n",
              "      <td>2019-05-27</td>\n",
              "      <td>Bitcoin Price Hits $8,939 in New 2019 High: Wh...</td>\n",
              "      <td>Positive</td>\n",
              "      <td>102</td>\n",
              "      <td>2</td>\n",
              "      <td>23</td>\n",
              "      <td>Bitcoin</td>\n",
              "    </tr>\n",
              "    <tr>\n",
              "      <th>4</th>\n",
              "      <td>2019-05-27</td>\n",
              "      <td>You have roughly 6 days left to get your #Laun...</td>\n",
              "      <td>Positive</td>\n",
              "      <td>304</td>\n",
              "      <td>1</td>\n",
              "      <td>23</td>\n",
              "      <td>to</td>\n",
              "    </tr>\n",
              "  </tbody>\n",
              "</table>\n",
              "</div>"
            ],
            "text/plain": [
              "         Date                                               text  ... Max      Mode\n",
              "0  2019-05-27  Cardano: Digitize Currencies; EOS https://t.co...  ...  23          \n",
              "1  2019-05-27  Another Test tweet that wasn't caught in the s...  ...   7   Another\n",
              "2  2019-05-27  Invested my Life Savings into Bitcoin and Ethe...  ...  23  Invested\n",
              "3  2019-05-27  Bitcoin Price Hits $8,939 in New 2019 High: Wh...  ...  23   Bitcoin\n",
              "4  2019-05-27  You have roughly 6 days left to get your #Laun...  ...  23        to\n",
              "\n",
              "[5 rows x 7 columns]"
            ]
          },
          "metadata": {},
          "execution_count": 23
        }
      ]
    },
    {
      "cell_type": "code",
      "metadata": {
        "id": "oWr-gbaEb4bX",
        "colab": {
          "base_uri": "https://localhost:8080/"
        },
        "outputId": "7564b541-cdab-4d0d-e5a7-da49af638746"
      },
      "source": [
        "!pip install -U pandas_profiling"
      ],
      "execution_count": 24,
      "outputs": [
        {
          "output_type": "stream",
          "name": "stdout",
          "text": [
            "Requirement already satisfied: pandas_profiling in /usr/local/lib/python3.7/dist-packages (3.1.0)\n",
            "Requirement already satisfied: htmlmin>=0.1.12 in /usr/local/lib/python3.7/dist-packages (from pandas_profiling) (0.1.12)\n",
            "Requirement already satisfied: requests>=2.24.0 in /usr/local/lib/python3.7/dist-packages (from pandas_profiling) (2.26.0)\n",
            "Requirement already satisfied: scipy>=1.4.1 in /usr/local/lib/python3.7/dist-packages (from pandas_profiling) (1.7.1)\n",
            "Requirement already satisfied: pandas!=1.0.0,!=1.0.1,!=1.0.2,!=1.1.0,>=0.25.3 in /usr/local/lib/python3.7/dist-packages (from pandas_profiling) (1.1.5)\n",
            "Requirement already satisfied: seaborn>=0.10.1 in /usr/local/lib/python3.7/dist-packages (from pandas_profiling) (0.11.2)\n",
            "Requirement already satisfied: visions[type_image_path]==0.7.4 in /usr/local/lib/python3.7/dist-packages (from pandas_profiling) (0.7.4)\n",
            "Requirement already satisfied: phik>=0.11.1 in /usr/local/lib/python3.7/dist-packages (from pandas_profiling) (0.12.0)\n",
            "Requirement already satisfied: missingno>=0.4.2 in /usr/local/lib/python3.7/dist-packages (from pandas_profiling) (0.5.0)\n",
            "Requirement already satisfied: tqdm>=4.48.2 in /usr/local/lib/python3.7/dist-packages (from pandas_profiling) (4.62.3)\n",
            "Requirement already satisfied: pydantic>=1.8.1 in /usr/local/lib/python3.7/dist-packages (from pandas_profiling) (1.8.2)\n",
            "Requirement already satisfied: numpy>=1.16.0 in /usr/local/lib/python3.7/dist-packages (from pandas_profiling) (1.19.5)\n",
            "Requirement already satisfied: joblib~=1.0.1 in /usr/local/lib/python3.7/dist-packages (from pandas_profiling) (1.0.1)\n",
            "Requirement already satisfied: multimethod>=1.4 in /usr/local/lib/python3.7/dist-packages (from pandas_profiling) (1.6)\n",
            "Requirement already satisfied: PyYAML>=5.0.0 in /usr/local/lib/python3.7/dist-packages (from pandas_profiling) (5.4.1)\n",
            "Requirement already satisfied: jinja2>=2.11.1 in /usr/local/lib/python3.7/dist-packages (from pandas_profiling) (2.11.3)\n",
            "Requirement already satisfied: markupsafe~=2.0.1 in /usr/local/lib/python3.7/dist-packages (from pandas_profiling) (2.0.1)\n",
            "Requirement already satisfied: tangled-up-in-unicode==0.1.0 in /usr/local/lib/python3.7/dist-packages (from pandas_profiling) (0.1.0)\n",
            "Requirement already satisfied: matplotlib>=3.2.0 in /usr/local/lib/python3.7/dist-packages (from pandas_profiling) (3.2.2)\n",
            "Requirement already satisfied: networkx>=2.4 in /usr/local/lib/python3.7/dist-packages (from visions[type_image_path]==0.7.4->pandas_profiling) (2.6.3)\n",
            "Requirement already satisfied: attrs>=19.3.0 in /usr/local/lib/python3.7/dist-packages (from visions[type_image_path]==0.7.4->pandas_profiling) (21.2.0)\n",
            "Requirement already satisfied: imagehash in /usr/local/lib/python3.7/dist-packages (from visions[type_image_path]==0.7.4->pandas_profiling) (4.2.1)\n",
            "Requirement already satisfied: Pillow in /usr/local/lib/python3.7/dist-packages (from visions[type_image_path]==0.7.4->pandas_profiling) (7.1.2)\n",
            "Requirement already satisfied: kiwisolver>=1.0.1 in /usr/local/lib/python3.7/dist-packages (from matplotlib>=3.2.0->pandas_profiling) (1.3.2)\n",
            "Requirement already satisfied: pyparsing!=2.0.4,!=2.1.2,!=2.1.6,>=2.0.1 in /usr/local/lib/python3.7/dist-packages (from matplotlib>=3.2.0->pandas_profiling) (2.4.7)\n",
            "Requirement already satisfied: cycler>=0.10 in /usr/local/lib/python3.7/dist-packages (from matplotlib>=3.2.0->pandas_profiling) (0.10.0)\n",
            "Requirement already satisfied: python-dateutil>=2.1 in /usr/local/lib/python3.7/dist-packages (from matplotlib>=3.2.0->pandas_profiling) (2.8.2)\n",
            "Requirement already satisfied: six in /usr/local/lib/python3.7/dist-packages (from cycler>=0.10->matplotlib>=3.2.0->pandas_profiling) (1.15.0)\n",
            "Requirement already satisfied: pytz>=2017.2 in /usr/local/lib/python3.7/dist-packages (from pandas!=1.0.0,!=1.0.1,!=1.0.2,!=1.1.0,>=0.25.3->pandas_profiling) (2018.9)\n",
            "Requirement already satisfied: typing-extensions>=3.7.4.3 in /usr/local/lib/python3.7/dist-packages (from pydantic>=1.8.1->pandas_profiling) (3.7.4.3)\n",
            "Requirement already satisfied: certifi>=2017.4.17 in /usr/local/lib/python3.7/dist-packages (from requests>=2.24.0->pandas_profiling) (2021.5.30)\n",
            "Requirement already satisfied: urllib3<1.27,>=1.21.1 in /usr/local/lib/python3.7/dist-packages (from requests>=2.24.0->pandas_profiling) (1.24.3)\n",
            "Requirement already satisfied: idna<4,>=2.5 in /usr/local/lib/python3.7/dist-packages (from requests>=2.24.0->pandas_profiling) (2.10)\n",
            "Requirement already satisfied: charset-normalizer~=2.0.0 in /usr/local/lib/python3.7/dist-packages (from requests>=2.24.0->pandas_profiling) (2.0.6)\n",
            "Requirement already satisfied: PyWavelets in /usr/local/lib/python3.7/dist-packages (from imagehash->visions[type_image_path]==0.7.4->pandas_profiling) (1.1.1)\n"
          ]
        }
      ]
    },
    {
      "cell_type": "code",
      "metadata": {
        "id": "kJm2OLVEYvGk"
      },
      "source": [
        "#ProfileReport(data_prueba)"
      ],
      "execution_count": 25,
      "outputs": []
    },
    {
      "cell_type": "markdown",
      "metadata": {
        "id": "GmFMD7EAdWXn"
      },
      "source": [
        "## Limpieza de Datos "
      ]
    },
    {
      "cell_type": "code",
      "metadata": {
        "id": "cMWfwWmeUCTE"
      },
      "source": [
        ""
      ],
      "execution_count": 25,
      "outputs": []
    },
    {
      "cell_type": "markdown",
      "metadata": {
        "id": "jZkpfAzKUC1T"
      },
      "source": [
        "**Definicion de funciones**"
      ]
    },
    {
      "cell_type": "code",
      "metadata": {
        "id": "95W6ne4caGnA"
      },
      "source": [
        "def remove_non_ascii(words):\n",
        "    \"\"\"Remove non-ASCII characters from list of tokenized words\"\"\"\n",
        "    new_words = []\n",
        "    for word in words:\n",
        "        new_word = unicodedata.normalize('NFKD', word).encode('ascii', 'ignore').decode('utf-8', 'ignore')\n",
        "        new_words.append(new_word)\n",
        "    return new_words\n"
      ],
      "execution_count": 26,
      "outputs": []
    },
    {
      "cell_type": "code",
      "metadata": {
        "id": "lYClAgdCc7zA"
      },
      "source": [
        "#Pasa todos los caracteres a minusculas\n",
        "def to_lowercase(words):\n",
        "    texto_min =[]\n",
        "    for pal in words:\n",
        "      pal_nva = pal.lower()\n",
        "      texto_min.append(pal_nva)\n",
        "    return texto_min  "
      ],
      "execution_count": 27,
      "outputs": []
    },
    {
      "cell_type": "code",
      "metadata": {
        "id": "JFyzGP7edjjG"
      },
      "source": [
        "#Remueve la puntuacionn de las palabras tokenizadas\n",
        "def remove_punctuation(words):\n",
        "    \"\"\"Remove punctuation from list of tokenized words\"\"\"\n",
        "    new_words = []\n",
        "    for word in words:\n",
        "        new_word = re.sub(r'[^\\w\\s]', '', word)\n",
        "        if new_word != '':\n",
        "            new_words.append(new_word)\n",
        "    return new_words\n"
      ],
      "execution_count": 28,
      "outputs": []
    },
    {
      "cell_type": "code",
      "metadata": {
        "id": "Ksh4XDk0ebDV"
      },
      "source": [
        "#Reemplaza numeros por palabras\n",
        "def replace_numbers(words):\n",
        "    p = inflect.engine()\n",
        "    new_words = []\n",
        "    for word in words:\n",
        "        if word.isdigit():\n",
        "          try:\n",
        "            new_word = p.number_to_words(word)\n",
        "            new_words.append(new_word)\n",
        "          except:\n",
        "            print(\"skipped\"+ word)\n",
        "              \n",
        "          \n",
        "        else:\n",
        "            new_words.append(word)\n",
        "    return new_words"
      ],
      "execution_count": 29,
      "outputs": []
    },
    {
      "cell_type": "code",
      "metadata": {
        "id": "dn76Dr5Sedn7"
      },
      "source": [
        "#Elimina todas las palabras vacias\n",
        "def remove_stopwords(words):\n",
        "    new_words = []\n",
        "    stop_words = set(stopwords.words('english'))\n",
        "    for w in words:\n",
        "      if w not in stop_words:\n",
        "        new_words.append(w)\n",
        "    return new_words\n",
        "\n"
      ],
      "execution_count": 30,
      "outputs": []
    },
    {
      "cell_type": "code",
      "metadata": {
        "id": "V04BQuD7effx"
      },
      "source": [
        "#Aplica todos los cambios\n",
        "def preprocessing(words):\n",
        "    words = to_lowercase(words)\n",
        "    words = replace_numbers(words)\n",
        "    words = remove_punctuation(words)\n",
        "    words = remove_non_ascii(words)\n",
        "    words = remove_stopwords(words)\n",
        "    return words"
      ],
      "execution_count": 31,
      "outputs": []
    },
    {
      "cell_type": "code",
      "metadata": {
        "id": "JfoSAh-8f8K3",
        "colab": {
          "base_uri": "https://localhost:8080/"
        },
        "outputId": "5f759e92-99ef-447e-aa77-f09a24463d5e"
      },
      "source": [
        "preprocessing(['@','HeLlo','$456.5','These','our','%^&',',,,,,',])"
      ],
      "execution_count": 32,
      "outputs": [
        {
          "output_type": "execute_result",
          "data": {
            "text/plain": [
              "['hello', '4565']"
            ]
          },
          "metadata": {},
          "execution_count": 32
        }
      ]
    },
    {
      "cell_type": "markdown",
      "metadata": {
        "id": "A5rs31ltHJl7"
      },
      "source": [
        "## Limpieza de metadatos de twitter"
      ]
    },
    {
      "cell_type": "code",
      "metadata": {
        "id": "wMv_7TaaC4Hr"
      },
      "source": [
        "# Elimina las urls del texto\n",
        "import re\n",
        "def remove_urls(w): \n",
        "  return re.sub(r\"http\\S+\", \"\", w, flags=re.MULTILINE)"
      ],
      "execution_count": 33,
      "outputs": []
    },
    {
      "cell_type": "code",
      "metadata": {
        "id": "mPOxHjNkHc_5"
      },
      "source": [
        "def remove_mentions(w):\n",
        "  return re.sub(\"@[A-Za-z0-9]+\",\"\", w)"
      ],
      "execution_count": 34,
      "outputs": []
    },
    {
      "cell_type": "code",
      "metadata": {
        "id": "bDj_Js1yrALb"
      },
      "source": [
        "def remove_hashtags(w):\n",
        "  return re.sub(\"#[A-Za-z0-9_]+\",\"\", w)"
      ],
      "execution_count": 35,
      "outputs": []
    },
    {
      "cell_type": "code",
      "metadata": {
        "id": "SK9VmNvootz7"
      },
      "source": [
        "def get_hashtags(w):\n",
        "  return ' '.join([tag.strip(\"#\") for tag in w.split() if tag.startswith(\"#\")])\n"
      ],
      "execution_count": 36,
      "outputs": []
    },
    {
      "cell_type": "code",
      "metadata": {
        "id": "R1XTHwsYHQNz",
        "colab": {
          "base_uri": "https://localhost:8080/"
        },
        "outputId": "a4887ca6-b608-49c0-c3ed-eea3af72833f"
      },
      "source": [
        "data_prueba[\"hashtags\"] = data_prueba['text'].apply(lambda x: get_hashtags(x))\n",
        "data_prueba[\"hashtags\"] "
      ],
      "execution_count": 37,
      "outputs": [
        {
          "output_type": "execute_result",
          "data": {
            "text/plain": [
              "0        FolloForFolloBack follo4folloback followforfol...\n",
              "1                                                         \n",
              "2                                                       09\n",
              "3                                                         \n",
              "4        LaunhPadFoundation raffle Litecoin!! tickets L...\n",
              "                               ...                        \n",
              "52675                                                     \n",
              "52676                                                     \n",
              "52677                                                     \n",
              "52678                                                     \n",
              "52679                                                     \n",
              "Name: hashtags, Length: 52680, dtype: object"
            ]
          },
          "metadata": {},
          "execution_count": 37
        }
      ]
    },
    {
      "cell_type": "code",
      "metadata": {
        "id": "FI3UCnSlGKm1",
        "colab": {
          "base_uri": "https://localhost:8080/"
        },
        "outputId": "001b957b-1df7-4bf8-8135-fdee29da9e1b"
      },
      "source": [
        "data_prueba['text'] = data_prueba['text'].apply(lambda x: remove_urls(x)).apply(lambda x: remove_mentions(x)).apply(lambda x: remove_hashtags(x))\n",
        "data_prueba['text']\n"
      ],
      "execution_count": 38,
      "outputs": [
        {
          "output_type": "execute_result",
          "data": {
            "text/plain": [
              "0        Cardano: Digitize Currencies; EOS  6500% ROI; ...\n",
              "1        Another Test tweet that wasn't caught in the s...\n",
              "2        Invested my Life Savings into Bitcoin and Ethe...\n",
              "3        Bitcoin Price Hits $8,939 in New 2019 High: Wh...\n",
              "4        You have roughly 6 days left to get your  50/5...\n",
              "                               ...                        \n",
              "52675                                     It's happening. \n",
              "52676                    How much bitcoin for a gamer girl\n",
              "52677                                      Bitcoin flying.\n",
              "52678                                in Bitcoin we trust😎 \n",
              "52679            I think you may be on to something here 🤔\n",
              "Name: text, Length: 52680, dtype: object"
            ]
          },
          "metadata": {},
          "execution_count": 38
        }
      ]
    },
    {
      "cell_type": "markdown",
      "metadata": {
        "id": "xMZF_SwggUMd"
      },
      "source": [
        "## Tokenizacion"
      ]
    },
    {
      "cell_type": "code",
      "metadata": {
        "id": "Ur65zsblgVko"
      },
      "source": [
        "#Correccion de las contracciones y elimina las urls antes de tokenizar\n",
        "data_prueba['text'] = data_prueba['text'].apply(contractions.fix) "
      ],
      "execution_count": 39,
      "outputs": []
    },
    {
      "cell_type": "code",
      "metadata": {
        "id": "jAfOZjDlg7ey",
        "colab": {
          "base_uri": "https://localhost:8080/",
          "height": 206
        },
        "outputId": "c5aba155-9e09-48d4-848c-27ebef4509a2"
      },
      "source": [
        "data_prueba.head()"
      ],
      "execution_count": 40,
      "outputs": [
        {
          "output_type": "execute_result",
          "data": {
            "text/html": [
              "<div>\n",
              "<style scoped>\n",
              "    .dataframe tbody tr th:only-of-type {\n",
              "        vertical-align: middle;\n",
              "    }\n",
              "\n",
              "    .dataframe tbody tr th {\n",
              "        vertical-align: top;\n",
              "    }\n",
              "\n",
              "    .dataframe thead th {\n",
              "        text-align: right;\n",
              "    }\n",
              "</style>\n",
              "<table border=\"1\" class=\"dataframe\">\n",
              "  <thead>\n",
              "    <tr style=\"text-align: right;\">\n",
              "      <th></th>\n",
              "      <th>Date</th>\n",
              "      <th>text</th>\n",
              "      <th>Sentiment</th>\n",
              "      <th>Conteo</th>\n",
              "      <th>Min</th>\n",
              "      <th>Max</th>\n",
              "      <th>Mode</th>\n",
              "      <th>hashtags</th>\n",
              "    </tr>\n",
              "  </thead>\n",
              "  <tbody>\n",
              "    <tr>\n",
              "      <th>0</th>\n",
              "      <td>2019-05-27</td>\n",
              "      <td>Cardano: Digitize Currencies; EOS  6500% ROI; ...</td>\n",
              "      <td>Positive</td>\n",
              "      <td>225</td>\n",
              "      <td>0</td>\n",
              "      <td>23</td>\n",
              "      <td></td>\n",
              "      <td>FolloForFolloBack follo4folloback followforfol...</td>\n",
              "    </tr>\n",
              "    <tr>\n",
              "      <th>1</th>\n",
              "      <td>2019-05-27</td>\n",
              "      <td>Another Test tweet that was not caught in the ...</td>\n",
              "      <td>Positive</td>\n",
              "      <td>61</td>\n",
              "      <td>1</td>\n",
              "      <td>7</td>\n",
              "      <td>Another</td>\n",
              "      <td></td>\n",
              "    </tr>\n",
              "    <tr>\n",
              "      <th>2</th>\n",
              "      <td>2019-05-27</td>\n",
              "      <td>Invested my Life Savings into Bitcoin and Ethe...</td>\n",
              "      <td>Positive</td>\n",
              "      <td>109</td>\n",
              "      <td>1</td>\n",
              "      <td>23</td>\n",
              "      <td>Invested</td>\n",
              "      <td>09</td>\n",
              "    </tr>\n",
              "    <tr>\n",
              "      <th>3</th>\n",
              "      <td>2019-05-27</td>\n",
              "      <td>Bitcoin Price Hits $8,939 in New 2019 High: wh...</td>\n",
              "      <td>Positive</td>\n",
              "      <td>102</td>\n",
              "      <td>2</td>\n",
              "      <td>23</td>\n",
              "      <td>Bitcoin</td>\n",
              "      <td></td>\n",
              "    </tr>\n",
              "    <tr>\n",
              "      <th>4</th>\n",
              "      <td>2019-05-27</td>\n",
              "      <td>You have roughly 6 days left to get your  50/5...</td>\n",
              "      <td>Positive</td>\n",
              "      <td>304</td>\n",
              "      <td>1</td>\n",
              "      <td>23</td>\n",
              "      <td>to</td>\n",
              "      <td>LaunhPadFoundation raffle Litecoin!! tickets L...</td>\n",
              "    </tr>\n",
              "  </tbody>\n",
              "</table>\n",
              "</div>"
            ],
            "text/plain": [
              "         Date  ...                                           hashtags\n",
              "0  2019-05-27  ...  FolloForFolloBack follo4folloback followforfol...\n",
              "1  2019-05-27  ...                                                   \n",
              "2  2019-05-27  ...                                                 09\n",
              "3  2019-05-27  ...                                                   \n",
              "4  2019-05-27  ...  LaunhPadFoundation raffle Litecoin!! tickets L...\n",
              "\n",
              "[5 rows x 8 columns]"
            ]
          },
          "metadata": {},
          "execution_count": 40
        }
      ]
    },
    {
      "cell_type": "code",
      "metadata": {
        "id": "U5hleBiZg_Hy",
        "colab": {
          "base_uri": "https://localhost:8080/",
          "height": 293
        },
        "outputId": "f4754231-46d6-41d3-a08a-b8946398def2"
      },
      "source": [
        "#Tokenizar \n",
        "data_prueba['words'] = data_prueba['text'].apply(word_tokenize).apply(preprocessing) \n",
        "data_prueba.head()"
      ],
      "execution_count": 41,
      "outputs": [
        {
          "output_type": "execute_result",
          "data": {
            "text/html": [
              "<div>\n",
              "<style scoped>\n",
              "    .dataframe tbody tr th:only-of-type {\n",
              "        vertical-align: middle;\n",
              "    }\n",
              "\n",
              "    .dataframe tbody tr th {\n",
              "        vertical-align: top;\n",
              "    }\n",
              "\n",
              "    .dataframe thead th {\n",
              "        text-align: right;\n",
              "    }\n",
              "</style>\n",
              "<table border=\"1\" class=\"dataframe\">\n",
              "  <thead>\n",
              "    <tr style=\"text-align: right;\">\n",
              "      <th></th>\n",
              "      <th>Date</th>\n",
              "      <th>text</th>\n",
              "      <th>Sentiment</th>\n",
              "      <th>Conteo</th>\n",
              "      <th>Min</th>\n",
              "      <th>Max</th>\n",
              "      <th>Mode</th>\n",
              "      <th>hashtags</th>\n",
              "      <th>words</th>\n",
              "    </tr>\n",
              "  </thead>\n",
              "  <tbody>\n",
              "    <tr>\n",
              "      <th>0</th>\n",
              "      <td>2019-05-27</td>\n",
              "      <td>Cardano: Digitize Currencies; EOS  6500% ROI; ...</td>\n",
              "      <td>Positive</td>\n",
              "      <td>225</td>\n",
              "      <td>0</td>\n",
              "      <td>23</td>\n",
              "      <td></td>\n",
              "      <td>FolloForFolloBack follo4folloback followforfol...</td>\n",
              "      <td>[cardano, digitize, currencies, eos, six thous...</td>\n",
              "    </tr>\n",
              "    <tr>\n",
              "      <th>1</th>\n",
              "      <td>2019-05-27</td>\n",
              "      <td>Another Test tweet that was not caught in the ...</td>\n",
              "      <td>Positive</td>\n",
              "      <td>61</td>\n",
              "      <td>1</td>\n",
              "      <td>7</td>\n",
              "      <td>Another</td>\n",
              "      <td></td>\n",
              "      <td>[another, test, tweet, caught, stream, bitcoin]</td>\n",
              "    </tr>\n",
              "    <tr>\n",
              "      <th>2</th>\n",
              "      <td>2019-05-27</td>\n",
              "      <td>Invested my Life Savings into Bitcoin and Ethe...</td>\n",
              "      <td>Positive</td>\n",
              "      <td>109</td>\n",
              "      <td>1</td>\n",
              "      <td>23</td>\n",
              "      <td>Invested</td>\n",
              "      <td>09</td>\n",
              "      <td>[invested, life, savings, bitcoin, ethereum, v...</td>\n",
              "    </tr>\n",
              "    <tr>\n",
              "      <th>3</th>\n",
              "      <td>2019-05-27</td>\n",
              "      <td>Bitcoin Price Hits $8,939 in New 2019 High: wh...</td>\n",
              "      <td>Positive</td>\n",
              "      <td>102</td>\n",
              "      <td>2</td>\n",
              "      <td>23</td>\n",
              "      <td>Bitcoin</td>\n",
              "      <td></td>\n",
              "      <td>[bitcoin, price, hits, 8939, new, two thousand...</td>\n",
              "    </tr>\n",
              "    <tr>\n",
              "      <th>4</th>\n",
              "      <td>2019-05-27</td>\n",
              "      <td>You have roughly 6 days left to get your  50/5...</td>\n",
              "      <td>Positive</td>\n",
              "      <td>304</td>\n",
              "      <td>1</td>\n",
              "      <td>23</td>\n",
              "      <td>to</td>\n",
              "      <td>LaunhPadFoundation raffle Litecoin!! tickets L...</td>\n",
              "      <td>[roughly, six, days, left, get, 5050, tickets,...</td>\n",
              "    </tr>\n",
              "  </tbody>\n",
              "</table>\n",
              "</div>"
            ],
            "text/plain": [
              "         Date  ...                                              words\n",
              "0  2019-05-27  ...  [cardano, digitize, currencies, eos, six thous...\n",
              "1  2019-05-27  ...    [another, test, tweet, caught, stream, bitcoin]\n",
              "2  2019-05-27  ...  [invested, life, savings, bitcoin, ethereum, v...\n",
              "3  2019-05-27  ...  [bitcoin, price, hits, 8939, new, two thousand...\n",
              "4  2019-05-27  ...  [roughly, six, days, left, get, 5050, tickets,...\n",
              "\n",
              "[5 rows x 9 columns]"
            ]
          },
          "metadata": {},
          "execution_count": 41
        }
      ]
    },
    {
      "cell_type": "code",
      "metadata": {
        "id": "7wsXMAUahV5I",
        "colab": {
          "base_uri": "https://localhost:8080/"
        },
        "outputId": "129ccd97-0b7a-4f1b-bcda-e0cdd3f5b659"
      },
      "source": [
        "#Se sacan los tweets que no incluyen ninguna palabra en 'words'\n",
        "data_fixed= data_prueba[data_prueba['words'].apply(lambda x: len(x) > 0)]\n",
        "data_fixed.shape"
      ],
      "execution_count": 42,
      "outputs": [
        {
          "output_type": "execute_result",
          "data": {
            "text/plain": [
              "(52358, 9)"
            ]
          },
          "metadata": {},
          "execution_count": 42
        }
      ]
    },
    {
      "cell_type": "markdown",
      "metadata": {
        "id": "zI9Lnd31TgmD"
      },
      "source": [
        "En Data_fixed se eliminan todas las entradas que no contengan palabras"
      ]
    },
    {
      "cell_type": "code",
      "metadata": {
        "id": "3bu3njeP7Xs0",
        "colab": {
          "base_uri": "https://localhost:8080/"
        },
        "outputId": "e1bd3d15-1cec-4a55-dbc7-080a1a75ca7b"
      },
      "source": [
        "#Se calcula la moda una vez más, esta vez en base a los tokens\n",
        "data_fixed['Mode']= [ Counter(i).most_common(1)[0][0] for i in data_fixed['words']]\n",
        "#Min: Palabra con menos caracteres\n",
        "data_fixed['Min'] = [[min([len(x) for x in i])][0] for i in data_fixed['words']]\n",
        "#Max: Palabra en el tweet con mayor caracteres\n",
        "data_fixed['Max'] = [[max([len(x) for x in i])][0] for i in data_fixed['words']]"
      ],
      "execution_count": 43,
      "outputs": [
        {
          "output_type": "stream",
          "name": "stderr",
          "text": [
            "/usr/local/lib/python3.7/dist-packages/ipykernel_launcher.py:2: SettingWithCopyWarning: \n",
            "A value is trying to be set on a copy of a slice from a DataFrame.\n",
            "Try using .loc[row_indexer,col_indexer] = value instead\n",
            "\n",
            "See the caveats in the documentation: https://pandas.pydata.org/pandas-docs/stable/user_guide/indexing.html#returning-a-view-versus-a-copy\n",
            "  \n",
            "/usr/local/lib/python3.7/dist-packages/ipykernel_launcher.py:4: SettingWithCopyWarning: \n",
            "A value is trying to be set on a copy of a slice from a DataFrame.\n",
            "Try using .loc[row_indexer,col_indexer] = value instead\n",
            "\n",
            "See the caveats in the documentation: https://pandas.pydata.org/pandas-docs/stable/user_guide/indexing.html#returning-a-view-versus-a-copy\n",
            "  after removing the cwd from sys.path.\n",
            "/usr/local/lib/python3.7/dist-packages/ipykernel_launcher.py:6: SettingWithCopyWarning: \n",
            "A value is trying to be set on a copy of a slice from a DataFrame.\n",
            "Try using .loc[row_indexer,col_indexer] = value instead\n",
            "\n",
            "See the caveats in the documentation: https://pandas.pydata.org/pandas-docs/stable/user_guide/indexing.html#returning-a-view-versus-a-copy\n",
            "  \n"
          ]
        }
      ]
    },
    {
      "cell_type": "code",
      "metadata": {
        "id": "6eLaJQyvtqXy",
        "colab": {
          "base_uri": "https://localhost:8080/",
          "height": 293
        },
        "outputId": "1306948a-0f9e-49d8-85a6-8d43eabe4cfe"
      },
      "source": [
        "data_fixed.head()\n"
      ],
      "execution_count": 44,
      "outputs": [
        {
          "output_type": "execute_result",
          "data": {
            "text/html": [
              "<div>\n",
              "<style scoped>\n",
              "    .dataframe tbody tr th:only-of-type {\n",
              "        vertical-align: middle;\n",
              "    }\n",
              "\n",
              "    .dataframe tbody tr th {\n",
              "        vertical-align: top;\n",
              "    }\n",
              "\n",
              "    .dataframe thead th {\n",
              "        text-align: right;\n",
              "    }\n",
              "</style>\n",
              "<table border=\"1\" class=\"dataframe\">\n",
              "  <thead>\n",
              "    <tr style=\"text-align: right;\">\n",
              "      <th></th>\n",
              "      <th>Date</th>\n",
              "      <th>text</th>\n",
              "      <th>Sentiment</th>\n",
              "      <th>Conteo</th>\n",
              "      <th>Min</th>\n",
              "      <th>Max</th>\n",
              "      <th>Mode</th>\n",
              "      <th>hashtags</th>\n",
              "      <th>words</th>\n",
              "    </tr>\n",
              "  </thead>\n",
              "  <tbody>\n",
              "    <tr>\n",
              "      <th>0</th>\n",
              "      <td>2019-05-27</td>\n",
              "      <td>Cardano: Digitize Currencies; EOS  6500% ROI; ...</td>\n",
              "      <td>Positive</td>\n",
              "      <td>225</td>\n",
              "      <td>3</td>\n",
              "      <td>25</td>\n",
              "      <td>cardano</td>\n",
              "      <td>FolloForFolloBack follo4folloback followforfol...</td>\n",
              "      <td>[cardano, digitize, currencies, eos, six thous...</td>\n",
              "    </tr>\n",
              "    <tr>\n",
              "      <th>1</th>\n",
              "      <td>2019-05-27</td>\n",
              "      <td>Another Test tweet that was not caught in the ...</td>\n",
              "      <td>Positive</td>\n",
              "      <td>61</td>\n",
              "      <td>4</td>\n",
              "      <td>7</td>\n",
              "      <td>another</td>\n",
              "      <td></td>\n",
              "      <td>[another, test, tweet, caught, stream, bitcoin]</td>\n",
              "    </tr>\n",
              "    <tr>\n",
              "      <th>2</th>\n",
              "      <td>2019-05-27</td>\n",
              "      <td>Invested my Life Savings into Bitcoin and Ethe...</td>\n",
              "      <td>Positive</td>\n",
              "      <td>109</td>\n",
              "      <td>4</td>\n",
              "      <td>8</td>\n",
              "      <td>invested</td>\n",
              "      <td>09</td>\n",
              "      <td>[invested, life, savings, bitcoin, ethereum, v...</td>\n",
              "    </tr>\n",
              "    <tr>\n",
              "      <th>3</th>\n",
              "      <td>2019-05-27</td>\n",
              "      <td>Bitcoin Price Hits $8,939 in New 2019 High: wh...</td>\n",
              "      <td>Positive</td>\n",
              "      <td>102</td>\n",
              "      <td>3</td>\n",
              "      <td>25</td>\n",
              "      <td>bitcoin</td>\n",
              "      <td></td>\n",
              "      <td>[bitcoin, price, hits, 8939, new, two thousand...</td>\n",
              "    </tr>\n",
              "    <tr>\n",
              "      <th>4</th>\n",
              "      <td>2019-05-27</td>\n",
              "      <td>You have roughly 6 days left to get your  50/5...</td>\n",
              "      <td>Positive</td>\n",
              "      <td>304</td>\n",
              "      <td>3</td>\n",
              "      <td>7</td>\n",
              "      <td>roughly</td>\n",
              "      <td>LaunhPadFoundation raffle Litecoin!! tickets L...</td>\n",
              "      <td>[roughly, six, days, left, get, 5050, tickets,...</td>\n",
              "    </tr>\n",
              "  </tbody>\n",
              "</table>\n",
              "</div>"
            ],
            "text/plain": [
              "         Date  ...                                              words\n",
              "0  2019-05-27  ...  [cardano, digitize, currencies, eos, six thous...\n",
              "1  2019-05-27  ...    [another, test, tweet, caught, stream, bitcoin]\n",
              "2  2019-05-27  ...  [invested, life, savings, bitcoin, ethereum, v...\n",
              "3  2019-05-27  ...  [bitcoin, price, hits, 8939, new, two thousand...\n",
              "4  2019-05-27  ...  [roughly, six, days, left, get, 5050, tickets,...\n",
              "\n",
              "[5 rows x 9 columns]"
            ]
          },
          "metadata": {},
          "execution_count": 44
        }
      ]
    },
    {
      "cell_type": "code",
      "metadata": {
        "id": "iKD_dZUS8cpI"
      },
      "source": [
        "#ProfileReport(data_fixed)\n"
      ],
      "execution_count": 45,
      "outputs": []
    },
    {
      "cell_type": "code",
      "metadata": {
        "id": "OWTFmkM1IKW0"
      },
      "source": [
        "#Eliminna sufijos y prefijos de las palabras\n",
        "def stem_words(words):\n",
        "     stemmed_list =[]\n",
        "     lan=LancasterStemmer()\n",
        "     for word in words:\n",
        "       stemmed = lan.stem(word)\n",
        "       stemmed_list.append(stemmed)\n",
        "         \n",
        "     return stemmed_list\n"
      ],
      "execution_count": 46,
      "outputs": []
    },
    {
      "cell_type": "code",
      "metadata": {
        "id": "JwJR02GzHEBE"
      },
      "source": [
        "# Lematiza los verbos\n",
        "def lemmatize_verbs(words):\n",
        "   lemmatized_list =[]\n",
        "   lem=WordNetLemmatizer()\n",
        "   for word in words:\n",
        "       lemmatized = lem.lemmatize(word, pos='v')\n",
        "       lemmatized_list.append(lemmatized)\n",
        "         \n",
        "   return lemmatized_list\n",
        "    \n",
        "\n"
      ],
      "execution_count": 47,
      "outputs": []
    },
    {
      "cell_type": "code",
      "metadata": {
        "id": "cwAZOvn2KQRx",
        "colab": {
          "base_uri": "https://localhost:8080/"
        },
        "outputId": "6aa5d854-862b-452e-953d-b82951040926"
      },
      "source": [
        "prueba=lemmatize_verbs(['caught'])\n",
        "prueba"
      ],
      "execution_count": 48,
      "outputs": [
        {
          "output_type": "execute_result",
          "data": {
            "text/plain": [
              "['catch']"
            ]
          },
          "metadata": {},
          "execution_count": 48
        }
      ]
    },
    {
      "cell_type": "code",
      "metadata": {
        "id": "hdHshBAJJxvm",
        "colab": {
          "base_uri": "https://localhost:8080/",
          "height": 397
        },
        "outputId": "4b847cec-9205-4bc8-c21d-61fe3062f086"
      },
      "source": [
        "def stem_and_lemmatize(words):\n",
        "    stems = stem_words(words)\n",
        "    lemmas = lemmatize_verbs(words)\n",
        "    return stems + lemmas\n",
        "\n",
        "data_fixed['words'] = data_fixed['words'].apply(stem_and_lemmatize) #Aplica lematización y Eliminación de Prefijos y Sufijos.\n",
        "data_fixed.head()"
      ],
      "execution_count": 49,
      "outputs": [
        {
          "output_type": "stream",
          "name": "stderr",
          "text": [
            "/usr/local/lib/python3.7/dist-packages/ipykernel_launcher.py:6: SettingWithCopyWarning: \n",
            "A value is trying to be set on a copy of a slice from a DataFrame.\n",
            "Try using .loc[row_indexer,col_indexer] = value instead\n",
            "\n",
            "See the caveats in the documentation: https://pandas.pydata.org/pandas-docs/stable/user_guide/indexing.html#returning-a-view-versus-a-copy\n",
            "  \n"
          ]
        },
        {
          "output_type": "execute_result",
          "data": {
            "text/html": [
              "<div>\n",
              "<style scoped>\n",
              "    .dataframe tbody tr th:only-of-type {\n",
              "        vertical-align: middle;\n",
              "    }\n",
              "\n",
              "    .dataframe tbody tr th {\n",
              "        vertical-align: top;\n",
              "    }\n",
              "\n",
              "    .dataframe thead th {\n",
              "        text-align: right;\n",
              "    }\n",
              "</style>\n",
              "<table border=\"1\" class=\"dataframe\">\n",
              "  <thead>\n",
              "    <tr style=\"text-align: right;\">\n",
              "      <th></th>\n",
              "      <th>Date</th>\n",
              "      <th>text</th>\n",
              "      <th>Sentiment</th>\n",
              "      <th>Conteo</th>\n",
              "      <th>Min</th>\n",
              "      <th>Max</th>\n",
              "      <th>Mode</th>\n",
              "      <th>hashtags</th>\n",
              "      <th>words</th>\n",
              "    </tr>\n",
              "  </thead>\n",
              "  <tbody>\n",
              "    <tr>\n",
              "      <th>0</th>\n",
              "      <td>2019-05-27</td>\n",
              "      <td>Cardano: Digitize Currencies; EOS  6500% ROI; ...</td>\n",
              "      <td>Positive</td>\n",
              "      <td>225</td>\n",
              "      <td>3</td>\n",
              "      <td>25</td>\n",
              "      <td>cardano</td>\n",
              "      <td>FolloForFolloBack follo4folloback followforfol...</td>\n",
              "      <td>[cardano, digit, cur, eo, six thousand five hu...</td>\n",
              "    </tr>\n",
              "    <tr>\n",
              "      <th>1</th>\n",
              "      <td>2019-05-27</td>\n",
              "      <td>Another Test tweet that was not caught in the ...</td>\n",
              "      <td>Positive</td>\n",
              "      <td>61</td>\n",
              "      <td>4</td>\n",
              "      <td>7</td>\n",
              "      <td>another</td>\n",
              "      <td></td>\n",
              "      <td>[anoth, test, tweet, caught, stream, bitcoin, ...</td>\n",
              "    </tr>\n",
              "    <tr>\n",
              "      <th>2</th>\n",
              "      <td>2019-05-27</td>\n",
              "      <td>Invested my Life Savings into Bitcoin and Ethe...</td>\n",
              "      <td>Positive</td>\n",
              "      <td>109</td>\n",
              "      <td>4</td>\n",
              "      <td>8</td>\n",
              "      <td>invested</td>\n",
              "      <td>09</td>\n",
              "      <td>[invest, lif, sav, bitcoin, ethere, vlog, inve...</td>\n",
              "    </tr>\n",
              "    <tr>\n",
              "      <th>3</th>\n",
              "      <td>2019-05-27</td>\n",
              "      <td>Bitcoin Price Hits $8,939 in New 2019 High: wh...</td>\n",
              "      <td>Positive</td>\n",
              "      <td>102</td>\n",
              "      <td>3</td>\n",
              "      <td>25</td>\n",
              "      <td>bitcoin</td>\n",
              "      <td></td>\n",
              "      <td>[bitcoin, pric, hit, 8939, new, two thousand a...</td>\n",
              "    </tr>\n",
              "    <tr>\n",
              "      <th>4</th>\n",
              "      <td>2019-05-27</td>\n",
              "      <td>You have roughly 6 days left to get your  50/5...</td>\n",
              "      <td>Positive</td>\n",
              "      <td>304</td>\n",
              "      <td>3</td>\n",
              "      <td>7</td>\n",
              "      <td>roughly</td>\n",
              "      <td>LaunhPadFoundation raffle Litecoin!! tickets L...</td>\n",
              "      <td>[rough, six, day, left, get, 5050, ticket, cur...</td>\n",
              "    </tr>\n",
              "  </tbody>\n",
              "</table>\n",
              "</div>"
            ],
            "text/plain": [
              "         Date  ...                                              words\n",
              "0  2019-05-27  ...  [cardano, digit, cur, eo, six thousand five hu...\n",
              "1  2019-05-27  ...  [anoth, test, tweet, caught, stream, bitcoin, ...\n",
              "2  2019-05-27  ...  [invest, lif, sav, bitcoin, ethere, vlog, inve...\n",
              "3  2019-05-27  ...  [bitcoin, pric, hit, 8939, new, two thousand a...\n",
              "4  2019-05-27  ...  [rough, six, day, left, get, 5050, ticket, cur...\n",
              "\n",
              "[5 rows x 9 columns]"
            ]
          },
          "metadata": {},
          "execution_count": 49
        }
      ]
    },
    {
      "cell_type": "markdown",
      "metadata": {
        "id": "TzupDvsHITvK"
      },
      "source": [
        "## Selección de campos"
      ]
    },
    {
      "cell_type": "code",
      "metadata": {
        "id": "TFmh1JzNITTh",
        "colab": {
          "base_uri": "https://localhost:8080/",
          "height": 701
        },
        "outputId": "1fcdd0c0-10fc-4d68-d05d-725c143bda25"
      },
      "source": [
        "data_fixed['words'] = data_fixed['words'].apply(lambda x: ' '.join(x))\n",
        "data_fixed"
      ],
      "execution_count": 50,
      "outputs": [
        {
          "output_type": "stream",
          "name": "stderr",
          "text": [
            "/usr/local/lib/python3.7/dist-packages/ipykernel_launcher.py:1: SettingWithCopyWarning: \n",
            "A value is trying to be set on a copy of a slice from a DataFrame.\n",
            "Try using .loc[row_indexer,col_indexer] = value instead\n",
            "\n",
            "See the caveats in the documentation: https://pandas.pydata.org/pandas-docs/stable/user_guide/indexing.html#returning-a-view-versus-a-copy\n",
            "  \"\"\"Entry point for launching an IPython kernel.\n"
          ]
        },
        {
          "output_type": "execute_result",
          "data": {
            "text/html": [
              "<div>\n",
              "<style scoped>\n",
              "    .dataframe tbody tr th:only-of-type {\n",
              "        vertical-align: middle;\n",
              "    }\n",
              "\n",
              "    .dataframe tbody tr th {\n",
              "        vertical-align: top;\n",
              "    }\n",
              "\n",
              "    .dataframe thead th {\n",
              "        text-align: right;\n",
              "    }\n",
              "</style>\n",
              "<table border=\"1\" class=\"dataframe\">\n",
              "  <thead>\n",
              "    <tr style=\"text-align: right;\">\n",
              "      <th></th>\n",
              "      <th>Date</th>\n",
              "      <th>text</th>\n",
              "      <th>Sentiment</th>\n",
              "      <th>Conteo</th>\n",
              "      <th>Min</th>\n",
              "      <th>Max</th>\n",
              "      <th>Mode</th>\n",
              "      <th>hashtags</th>\n",
              "      <th>words</th>\n",
              "    </tr>\n",
              "  </thead>\n",
              "  <tbody>\n",
              "    <tr>\n",
              "      <th>0</th>\n",
              "      <td>2019-05-27</td>\n",
              "      <td>Cardano: Digitize Currencies; EOS  6500% ROI; ...</td>\n",
              "      <td>Positive</td>\n",
              "      <td>225</td>\n",
              "      <td>3</td>\n",
              "      <td>25</td>\n",
              "      <td>cardano</td>\n",
              "      <td>FolloForFolloBack follo4folloback followforfol...</td>\n",
              "      <td>cardano digit cur eo six thousand five hundred...</td>\n",
              "    </tr>\n",
              "    <tr>\n",
              "      <th>1</th>\n",
              "      <td>2019-05-27</td>\n",
              "      <td>Another Test tweet that was not caught in the ...</td>\n",
              "      <td>Positive</td>\n",
              "      <td>61</td>\n",
              "      <td>4</td>\n",
              "      <td>7</td>\n",
              "      <td>another</td>\n",
              "      <td></td>\n",
              "      <td>anoth test tweet caught stream bitcoin another...</td>\n",
              "    </tr>\n",
              "    <tr>\n",
              "      <th>2</th>\n",
              "      <td>2019-05-27</td>\n",
              "      <td>Invested my Life Savings into Bitcoin and Ethe...</td>\n",
              "      <td>Positive</td>\n",
              "      <td>109</td>\n",
              "      <td>4</td>\n",
              "      <td>8</td>\n",
              "      <td>invested</td>\n",
              "      <td>09</td>\n",
              "      <td>invest lif sav bitcoin ethere vlog invest life...</td>\n",
              "    </tr>\n",
              "    <tr>\n",
              "      <th>3</th>\n",
              "      <td>2019-05-27</td>\n",
              "      <td>Bitcoin Price Hits $8,939 in New 2019 High: wh...</td>\n",
              "      <td>Positive</td>\n",
              "      <td>102</td>\n",
              "      <td>3</td>\n",
              "      <td>25</td>\n",
              "      <td>bitcoin</td>\n",
              "      <td></td>\n",
              "      <td>bitcoin pric hit 8939 new two thousand and nin...</td>\n",
              "    </tr>\n",
              "    <tr>\n",
              "      <th>4</th>\n",
              "      <td>2019-05-27</td>\n",
              "      <td>You have roughly 6 days left to get your  50/5...</td>\n",
              "      <td>Positive</td>\n",
              "      <td>304</td>\n",
              "      <td>3</td>\n",
              "      <td>7</td>\n",
              "      <td>roughly</td>\n",
              "      <td>LaunhPadFoundation raffle Litecoin!! tickets L...</td>\n",
              "      <td>rough six day left get 5050 ticket cur pot aro...</td>\n",
              "    </tr>\n",
              "    <tr>\n",
              "      <th>...</th>\n",
              "      <td>...</td>\n",
              "      <td>...</td>\n",
              "      <td>...</td>\n",
              "      <td>...</td>\n",
              "      <td>...</td>\n",
              "      <td>...</td>\n",
              "      <td>...</td>\n",
              "      <td>...</td>\n",
              "      <td>...</td>\n",
              "    </tr>\n",
              "    <tr>\n",
              "      <th>52675</th>\n",
              "      <td>2019-07-10</td>\n",
              "      <td>it is happening.</td>\n",
              "      <td>Negative</td>\n",
              "      <td>39</td>\n",
              "      <td>9</td>\n",
              "      <td>9</td>\n",
              "      <td>happening</td>\n",
              "      <td></td>\n",
              "      <td>hap happen</td>\n",
              "    </tr>\n",
              "    <tr>\n",
              "      <th>52676</th>\n",
              "      <td>2019-07-10</td>\n",
              "      <td>How much bitcoin for a gamer girl</td>\n",
              "      <td>Negative</td>\n",
              "      <td>33</td>\n",
              "      <td>4</td>\n",
              "      <td>7</td>\n",
              "      <td>much</td>\n",
              "      <td></td>\n",
              "      <td>much bitcoin gam girl much bitcoin gamer girl</td>\n",
              "    </tr>\n",
              "    <tr>\n",
              "      <th>52677</th>\n",
              "      <td>2019-07-10</td>\n",
              "      <td>Bitcoin flying.</td>\n",
              "      <td>Negative</td>\n",
              "      <td>15</td>\n",
              "      <td>6</td>\n",
              "      <td>7</td>\n",
              "      <td>bitcoin</td>\n",
              "      <td></td>\n",
              "      <td>bitcoin fly bitcoin fly</td>\n",
              "    </tr>\n",
              "    <tr>\n",
              "      <th>52678</th>\n",
              "      <td>2019-07-10</td>\n",
              "      <td>in Bitcoin we trust😎</td>\n",
              "      <td>Negative</td>\n",
              "      <td>44</td>\n",
              "      <td>5</td>\n",
              "      <td>7</td>\n",
              "      <td>bitcoin</td>\n",
              "      <td></td>\n",
              "      <td>bitcoin trust bitcoin trust</td>\n",
              "    </tr>\n",
              "    <tr>\n",
              "      <th>52679</th>\n",
              "      <td>2019-07-10</td>\n",
              "      <td>I think you may be on to something here 🤔</td>\n",
              "      <td>Negative</td>\n",
              "      <td>41</td>\n",
              "      <td>3</td>\n",
              "      <td>9</td>\n",
              "      <td>think</td>\n",
              "      <td></td>\n",
              "      <td>think may someth think may something</td>\n",
              "    </tr>\n",
              "  </tbody>\n",
              "</table>\n",
              "<p>52358 rows × 9 columns</p>\n",
              "</div>"
            ],
            "text/plain": [
              "             Date  ...                                              words\n",
              "0      2019-05-27  ...  cardano digit cur eo six thousand five hundred...\n",
              "1      2019-05-27  ...  anoth test tweet caught stream bitcoin another...\n",
              "2      2019-05-27  ...  invest lif sav bitcoin ethere vlog invest life...\n",
              "3      2019-05-27  ...  bitcoin pric hit 8939 new two thousand and nin...\n",
              "4      2019-05-27  ...  rough six day left get 5050 ticket cur pot aro...\n",
              "...           ...  ...                                                ...\n",
              "52675  2019-07-10  ...                                         hap happen\n",
              "52676  2019-07-10  ...      much bitcoin gam girl much bitcoin gamer girl\n",
              "52677  2019-07-10  ...                            bitcoin fly bitcoin fly\n",
              "52678  2019-07-10  ...                        bitcoin trust bitcoin trust\n",
              "52679  2019-07-10  ...               think may someth think may something\n",
              "\n",
              "[52358 rows x 9 columns]"
            ]
          },
          "metadata": {},
          "execution_count": 50
        }
      ]
    },
    {
      "cell_type": "code",
      "metadata": {
        "id": "o2CFhQ8lMqrX"
      },
      "source": [
        "# Don't wrap repr(DataFrame) across additional lines\n",
        "pd.set_option(\"display.expand_frame_repr\", False)\n",
        "\n",
        "# Set max rows displayed in output to 25\n",
        "pd.set_option(\"display.max_rows\", 25)"
      ],
      "execution_count": 51,
      "outputs": []
    },
    {
      "cell_type": "code",
      "metadata": {
        "id": "40rgssevJOK1",
        "colab": {
          "base_uri": "https://localhost:8080/",
          "height": 206
        },
        "outputId": "bf6f34a0-d051-46a2-9fee-988507c38d6e"
      },
      "source": [
        "data_model = data_fixed[['Date', 'words', 'Sentiment']]\n",
        "data_model.head()"
      ],
      "execution_count": 52,
      "outputs": [
        {
          "output_type": "execute_result",
          "data": {
            "text/html": [
              "<div>\n",
              "<style scoped>\n",
              "    .dataframe tbody tr th:only-of-type {\n",
              "        vertical-align: middle;\n",
              "    }\n",
              "\n",
              "    .dataframe tbody tr th {\n",
              "        vertical-align: top;\n",
              "    }\n",
              "\n",
              "    .dataframe thead th {\n",
              "        text-align: right;\n",
              "    }\n",
              "</style>\n",
              "<table border=\"1\" class=\"dataframe\">\n",
              "  <thead>\n",
              "    <tr style=\"text-align: right;\">\n",
              "      <th></th>\n",
              "      <th>Date</th>\n",
              "      <th>words</th>\n",
              "      <th>Sentiment</th>\n",
              "    </tr>\n",
              "  </thead>\n",
              "  <tbody>\n",
              "    <tr>\n",
              "      <th>0</th>\n",
              "      <td>2019-05-27</td>\n",
              "      <td>cardano digit cur eo six thousand five hundred...</td>\n",
              "      <td>Positive</td>\n",
              "    </tr>\n",
              "    <tr>\n",
              "      <th>1</th>\n",
              "      <td>2019-05-27</td>\n",
              "      <td>anoth test tweet caught stream bitcoin another...</td>\n",
              "      <td>Positive</td>\n",
              "    </tr>\n",
              "    <tr>\n",
              "      <th>2</th>\n",
              "      <td>2019-05-27</td>\n",
              "      <td>invest lif sav bitcoin ethere vlog invest life...</td>\n",
              "      <td>Positive</td>\n",
              "    </tr>\n",
              "    <tr>\n",
              "      <th>3</th>\n",
              "      <td>2019-05-27</td>\n",
              "      <td>bitcoin pric hit 8939 new two thousand and nin...</td>\n",
              "      <td>Positive</td>\n",
              "    </tr>\n",
              "    <tr>\n",
              "      <th>4</th>\n",
              "      <td>2019-05-27</td>\n",
              "      <td>rough six day left get 5050 ticket cur pot aro...</td>\n",
              "      <td>Positive</td>\n",
              "    </tr>\n",
              "  </tbody>\n",
              "</table>\n",
              "</div>"
            ],
            "text/plain": [
              "         Date                                              words Sentiment\n",
              "0  2019-05-27  cardano digit cur eo six thousand five hundred...  Positive\n",
              "1  2019-05-27  anoth test tweet caught stream bitcoin another...  Positive\n",
              "2  2019-05-27  invest lif sav bitcoin ethere vlog invest life...  Positive\n",
              "3  2019-05-27  bitcoin pric hit 8939 new two thousand and nin...  Positive\n",
              "4  2019-05-27  rough six day left get 5050 ticket cur pot aro...  Positive"
            ]
          },
          "metadata": {},
          "execution_count": 52
        }
      ]
    },
    {
      "cell_type": "code",
      "metadata": {
        "id": "LGjky4EytTcl"
      },
      "source": [
        ""
      ],
      "execution_count": 52,
      "outputs": []
    },
    {
      "cell_type": "code",
      "metadata": {
        "id": "OoghQ1PLtWyk"
      },
      "source": [
        ""
      ],
      "execution_count": 52,
      "outputs": []
    },
    {
      "cell_type": "markdown",
      "metadata": {
        "id": "4NR0ZhcCtV7n"
      },
      "source": [
        "**Agrupacion**"
      ]
    },
    {
      "cell_type": "markdown",
      "metadata": {
        "id": "Zj1AK1vRtZeL"
      },
      "source": [
        "Se agrupan los tweets con base al dia en que se tuitearon para poder realizar el analisis"
      ]
    },
    {
      "cell_type": "code",
      "metadata": {
        "id": "aUJ2O399JyIv",
        "colab": {
          "base_uri": "https://localhost:8080/",
          "height": 206
        },
        "outputId": "0241e2cb-fdd2-40f5-c68b-b38d1e3492e9"
      },
      "source": [
        "data_model_group = data_model.groupby(['Date', 'Sentiment'])['words'].agg(lambda x: \"%s\" % ' '.join(x)).to_frame(\"words\")\n",
        "data_model_group= data_model_group.sort_values(by=['Date'],ascending=False).reset_index()\n",
        "data_model_group.head()\n",
        "\n",
        "#f = open(\"text.txt\", 'w')\n",
        "#f.write(data_model_group['words'][1])\n",
        "#f.close()\n"
      ],
      "execution_count": 53,
      "outputs": [
        {
          "output_type": "execute_result",
          "data": {
            "text/html": [
              "<div>\n",
              "<style scoped>\n",
              "    .dataframe tbody tr th:only-of-type {\n",
              "        vertical-align: middle;\n",
              "    }\n",
              "\n",
              "    .dataframe tbody tr th {\n",
              "        vertical-align: top;\n",
              "    }\n",
              "\n",
              "    .dataframe thead th {\n",
              "        text-align: right;\n",
              "    }\n",
              "</style>\n",
              "<table border=\"1\" class=\"dataframe\">\n",
              "  <thead>\n",
              "    <tr style=\"text-align: right;\">\n",
              "      <th></th>\n",
              "      <th>Date</th>\n",
              "      <th>Sentiment</th>\n",
              "      <th>words</th>\n",
              "    </tr>\n",
              "  </thead>\n",
              "  <tbody>\n",
              "    <tr>\n",
              "      <th>0</th>\n",
              "      <td>2019-07-10</td>\n",
              "      <td>Negative</td>\n",
              "      <td>thank thank eleven thousand two hundred and tw...</td>\n",
              "    </tr>\n",
              "    <tr>\n",
              "      <th>1</th>\n",
              "      <td>2019-07-09</td>\n",
              "      <td>Positive</td>\n",
              "      <td>_ nee btc hard _ need btc hard bitcoin hurt in...</td>\n",
              "    </tr>\n",
              "    <tr>\n",
              "      <th>2</th>\n",
              "      <td>2019-07-08</td>\n",
              "      <td>Positive</td>\n",
              "      <td>gre list podcast great list podcasters top top...</td>\n",
              "    </tr>\n",
              "    <tr>\n",
              "      <th>3</th>\n",
              "      <td>2019-07-07</td>\n",
              "      <td>Positive</td>\n",
              "      <td>buy bitcoin buy bitcoin awsom awsome nic good ...</td>\n",
              "    </tr>\n",
              "    <tr>\n",
              "      <th>4</th>\n",
              "      <td>2019-07-06</td>\n",
              "      <td>Positive</td>\n",
              "      <td>bitcoin bitcoin dark room dark room permission...</td>\n",
              "    </tr>\n",
              "  </tbody>\n",
              "</table>\n",
              "</div>"
            ],
            "text/plain": [
              "         Date Sentiment                                              words\n",
              "0  2019-07-10  Negative  thank thank eleven thousand two hundred and tw...\n",
              "1  2019-07-09  Positive  _ nee btc hard _ need btc hard bitcoin hurt in...\n",
              "2  2019-07-08  Positive  gre list podcast great list podcasters top top...\n",
              "3  2019-07-07  Positive  buy bitcoin buy bitcoin awsom awsome nic good ...\n",
              "4  2019-07-06  Positive  bitcoin bitcoin dark room dark room permission..."
            ]
          },
          "metadata": {},
          "execution_count": 53
        }
      ]
    },
    {
      "cell_type": "code",
      "metadata": {
        "id": "qLsxSpvsjsUJ",
        "colab": {
          "base_uri": "https://localhost:8080/"
        },
        "outputId": "01ee8df4-9035-4c5f-f93c-d8c9689db130"
      },
      "source": [
        "data_model_group.shape"
      ],
      "execution_count": 54,
      "outputs": [
        {
          "output_type": "execute_result",
          "data": {
            "text/plain": [
              "(1756, 3)"
            ]
          },
          "metadata": {},
          "execution_count": 54
        }
      ]
    },
    {
      "cell_type": "code",
      "metadata": {
        "id": "FHlmbkVfuK5O"
      },
      "source": [
        ""
      ],
      "execution_count": 54,
      "outputs": []
    },
    {
      "cell_type": "code",
      "metadata": {
        "id": "cZzAcSYcuMYA"
      },
      "source": [
        ""
      ],
      "execution_count": 54,
      "outputs": []
    },
    {
      "cell_type": "markdown",
      "metadata": {
        "id": "L7ZBVtmnuLRb"
      },
      "source": [
        "**Analisis de Sentimiento**"
      ]
    },
    {
      "cell_type": "code",
      "metadata": {
        "id": "xOQzyC9VWE0M"
      },
      "source": [
        "sia = SentimentIntensityAnalyzer()\n",
        "negs = []\n",
        "neus= []\n",
        "pos = []\n",
        "compounds = []\n",
        "\n",
        "for tweets in data_model_group['words']:\n",
        "  polarity = sia.polarity_scores(tweets)\n",
        "  negs.append(polarity['neg'])\n",
        "  neus.append(polarity['neu'])\n",
        "  pos.append(polarity['pos'])\n",
        "  compounds.append(polarity['compound'])\n",
        "\n",
        "\n"
      ],
      "execution_count": 55,
      "outputs": []
    },
    {
      "cell_type": "code",
      "metadata": {
        "id": "mjgnQByxYzhv",
        "colab": {
          "base_uri": "https://localhost:8080/",
          "height": 206
        },
        "outputId": "25077017-b74d-4e5b-a0cb-4ffe4376e1e1"
      },
      "source": [
        "data_model_def = pd.DataFrame({ \"Date\": data_model_group['Date'], 'negative': negs, 'neutral': neus, 'positive': pos, 'compound': compounds, 'Sentiment': data_model_group['Sentiment'] })\n",
        "data_model_def.head()"
      ],
      "execution_count": 56,
      "outputs": [
        {
          "output_type": "execute_result",
          "data": {
            "text/html": [
              "<div>\n",
              "<style scoped>\n",
              "    .dataframe tbody tr th:only-of-type {\n",
              "        vertical-align: middle;\n",
              "    }\n",
              "\n",
              "    .dataframe tbody tr th {\n",
              "        vertical-align: top;\n",
              "    }\n",
              "\n",
              "    .dataframe thead th {\n",
              "        text-align: right;\n",
              "    }\n",
              "</style>\n",
              "<table border=\"1\" class=\"dataframe\">\n",
              "  <thead>\n",
              "    <tr style=\"text-align: right;\">\n",
              "      <th></th>\n",
              "      <th>Date</th>\n",
              "      <th>negative</th>\n",
              "      <th>neutral</th>\n",
              "      <th>positive</th>\n",
              "      <th>compound</th>\n",
              "      <th>Sentiment</th>\n",
              "    </tr>\n",
              "  </thead>\n",
              "  <tbody>\n",
              "    <tr>\n",
              "      <th>0</th>\n",
              "      <td>2019-07-10</td>\n",
              "      <td>0.029</td>\n",
              "      <td>0.785</td>\n",
              "      <td>0.186</td>\n",
              "      <td>0.9756</td>\n",
              "      <td>Negative</td>\n",
              "    </tr>\n",
              "    <tr>\n",
              "      <th>1</th>\n",
              "      <td>2019-07-09</td>\n",
              "      <td>0.217</td>\n",
              "      <td>0.697</td>\n",
              "      <td>0.086</td>\n",
              "      <td>-0.9861</td>\n",
              "      <td>Positive</td>\n",
              "    </tr>\n",
              "    <tr>\n",
              "      <th>2</th>\n",
              "      <td>2019-07-08</td>\n",
              "      <td>0.052</td>\n",
              "      <td>0.802</td>\n",
              "      <td>0.146</td>\n",
              "      <td>0.9883</td>\n",
              "      <td>Positive</td>\n",
              "    </tr>\n",
              "    <tr>\n",
              "      <th>3</th>\n",
              "      <td>2019-07-07</td>\n",
              "      <td>0.079</td>\n",
              "      <td>0.565</td>\n",
              "      <td>0.356</td>\n",
              "      <td>0.9918</td>\n",
              "      <td>Positive</td>\n",
              "    </tr>\n",
              "    <tr>\n",
              "      <th>4</th>\n",
              "      <td>2019-07-06</td>\n",
              "      <td>0.041</td>\n",
              "      <td>0.819</td>\n",
              "      <td>0.140</td>\n",
              "      <td>0.9843</td>\n",
              "      <td>Positive</td>\n",
              "    </tr>\n",
              "  </tbody>\n",
              "</table>\n",
              "</div>"
            ],
            "text/plain": [
              "         Date  negative  neutral  positive  compound Sentiment\n",
              "0  2019-07-10     0.029    0.785     0.186    0.9756  Negative\n",
              "1  2019-07-09     0.217    0.697     0.086   -0.9861  Positive\n",
              "2  2019-07-08     0.052    0.802     0.146    0.9883  Positive\n",
              "3  2019-07-07     0.079    0.565     0.356    0.9918  Positive\n",
              "4  2019-07-06     0.041    0.819     0.140    0.9843  Positive"
            ]
          },
          "metadata": {},
          "execution_count": 56
        }
      ]
    },
    {
      "cell_type": "code",
      "metadata": {
        "id": "KQHUcgOjb7Mq",
        "colab": {
          "base_uri": "https://localhost:8080/",
          "height": 423
        },
        "outputId": "f6f8a216-f200-43b9-e9a7-3494e68df69b"
      },
      "source": [
        "# Convertimos en 0 y 1 los label Negative y Positive\n",
        "unicos= data_model_def['Sentiment'].unique()\n",
        "le = LabelEncoder()\n",
        "le.fit(unicos)\n",
        "data_model_def['label_Sentiment']=le.fit_transform(data_model_def['Sentiment'])\n",
        "data_model_def"
      ],
      "execution_count": 57,
      "outputs": [
        {
          "output_type": "execute_result",
          "data": {
            "text/html": [
              "<div>\n",
              "<style scoped>\n",
              "    .dataframe tbody tr th:only-of-type {\n",
              "        vertical-align: middle;\n",
              "    }\n",
              "\n",
              "    .dataframe tbody tr th {\n",
              "        vertical-align: top;\n",
              "    }\n",
              "\n",
              "    .dataframe thead th {\n",
              "        text-align: right;\n",
              "    }\n",
              "</style>\n",
              "<table border=\"1\" class=\"dataframe\">\n",
              "  <thead>\n",
              "    <tr style=\"text-align: right;\">\n",
              "      <th></th>\n",
              "      <th>Date</th>\n",
              "      <th>negative</th>\n",
              "      <th>neutral</th>\n",
              "      <th>positive</th>\n",
              "      <th>compound</th>\n",
              "      <th>Sentiment</th>\n",
              "      <th>label_Sentiment</th>\n",
              "    </tr>\n",
              "  </thead>\n",
              "  <tbody>\n",
              "    <tr>\n",
              "      <th>0</th>\n",
              "      <td>2019-07-10</td>\n",
              "      <td>0.029</td>\n",
              "      <td>0.785</td>\n",
              "      <td>0.186</td>\n",
              "      <td>0.9756</td>\n",
              "      <td>Negative</td>\n",
              "      <td>0</td>\n",
              "    </tr>\n",
              "    <tr>\n",
              "      <th>1</th>\n",
              "      <td>2019-07-09</td>\n",
              "      <td>0.217</td>\n",
              "      <td>0.697</td>\n",
              "      <td>0.086</td>\n",
              "      <td>-0.9861</td>\n",
              "      <td>Positive</td>\n",
              "      <td>1</td>\n",
              "    </tr>\n",
              "    <tr>\n",
              "      <th>2</th>\n",
              "      <td>2019-07-08</td>\n",
              "      <td>0.052</td>\n",
              "      <td>0.802</td>\n",
              "      <td>0.146</td>\n",
              "      <td>0.9883</td>\n",
              "      <td>Positive</td>\n",
              "      <td>1</td>\n",
              "    </tr>\n",
              "    <tr>\n",
              "      <th>3</th>\n",
              "      <td>2019-07-07</td>\n",
              "      <td>0.079</td>\n",
              "      <td>0.565</td>\n",
              "      <td>0.356</td>\n",
              "      <td>0.9918</td>\n",
              "      <td>Positive</td>\n",
              "      <td>1</td>\n",
              "    </tr>\n",
              "    <tr>\n",
              "      <th>4</th>\n",
              "      <td>2019-07-06</td>\n",
              "      <td>0.041</td>\n",
              "      <td>0.819</td>\n",
              "      <td>0.140</td>\n",
              "      <td>0.9843</td>\n",
              "      <td>Positive</td>\n",
              "      <td>1</td>\n",
              "    </tr>\n",
              "    <tr>\n",
              "      <th>...</th>\n",
              "      <td>...</td>\n",
              "      <td>...</td>\n",
              "      <td>...</td>\n",
              "      <td>...</td>\n",
              "      <td>...</td>\n",
              "      <td>...</td>\n",
              "      <td>...</td>\n",
              "    </tr>\n",
              "    <tr>\n",
              "      <th>1751</th>\n",
              "      <td>2014-09-22</td>\n",
              "      <td>0.000</td>\n",
              "      <td>0.981</td>\n",
              "      <td>0.019</td>\n",
              "      <td>0.9468</td>\n",
              "      <td>Positive</td>\n",
              "      <td>1</td>\n",
              "    </tr>\n",
              "    <tr>\n",
              "      <th>1752</th>\n",
              "      <td>2014-09-21</td>\n",
              "      <td>0.000</td>\n",
              "      <td>0.986</td>\n",
              "      <td>0.014</td>\n",
              "      <td>0.8910</td>\n",
              "      <td>Negative</td>\n",
              "      <td>0</td>\n",
              "    </tr>\n",
              "    <tr>\n",
              "      <th>1753</th>\n",
              "      <td>2014-09-20</td>\n",
              "      <td>0.000</td>\n",
              "      <td>0.958</td>\n",
              "      <td>0.042</td>\n",
              "      <td>0.9872</td>\n",
              "      <td>Positive</td>\n",
              "      <td>1</td>\n",
              "    </tr>\n",
              "    <tr>\n",
              "      <th>1754</th>\n",
              "      <td>2014-09-19</td>\n",
              "      <td>0.005</td>\n",
              "      <td>0.979</td>\n",
              "      <td>0.016</td>\n",
              "      <td>0.8519</td>\n",
              "      <td>Negative</td>\n",
              "      <td>0</td>\n",
              "    </tr>\n",
              "    <tr>\n",
              "      <th>1755</th>\n",
              "      <td>2014-09-18</td>\n",
              "      <td>0.000</td>\n",
              "      <td>0.979</td>\n",
              "      <td>0.021</td>\n",
              "      <td>0.9468</td>\n",
              "      <td>Negative</td>\n",
              "      <td>0</td>\n",
              "    </tr>\n",
              "  </tbody>\n",
              "</table>\n",
              "<p>1756 rows × 7 columns</p>\n",
              "</div>"
            ],
            "text/plain": [
              "            Date  negative  neutral  positive  compound Sentiment  label_Sentiment\n",
              "0     2019-07-10     0.029    0.785     0.186    0.9756  Negative                0\n",
              "1     2019-07-09     0.217    0.697     0.086   -0.9861  Positive                1\n",
              "2     2019-07-08     0.052    0.802     0.146    0.9883  Positive                1\n",
              "3     2019-07-07     0.079    0.565     0.356    0.9918  Positive                1\n",
              "4     2019-07-06     0.041    0.819     0.140    0.9843  Positive                1\n",
              "...          ...       ...      ...       ...       ...       ...              ...\n",
              "1751  2014-09-22     0.000    0.981     0.019    0.9468  Positive                1\n",
              "1752  2014-09-21     0.000    0.986     0.014    0.8910  Negative                0\n",
              "1753  2014-09-20     0.000    0.958     0.042    0.9872  Positive                1\n",
              "1754  2014-09-19     0.005    0.979     0.016    0.8519  Negative                0\n",
              "1755  2014-09-18     0.000    0.979     0.021    0.9468  Negative                0\n",
              "\n",
              "[1756 rows x 7 columns]"
            ]
          },
          "metadata": {},
          "execution_count": 57
        }
      ]
    },
    {
      "cell_type": "code",
      "metadata": {
        "id": "tsQomTbweO9O"
      },
      "source": [
        "# Obtenemos nuestras variables X y Y\n",
        "X = data_model_def[['negative', 'neutral', 'positive', 'compound']]\n",
        "Y = data_model_def['label_Sentiment']\n",
        "\n",
        "X_train, X_test, Y_train, Y_test = train_test_split(X, Y, test_size=0.3, random_state=0)\n"
      ],
      "execution_count": 58,
      "outputs": []
    },
    {
      "cell_type": "code",
      "metadata": {
        "id": "woXCFR-dfO10"
      },
      "source": [
        "# Tabla donde se guardaran los resultados para compararlos \n",
        "comparision_table = {  }"
      ],
      "execution_count": 59,
      "outputs": []
    },
    {
      "cell_type": "markdown",
      "metadata": {
        "id": "j3_zOjCWfHrm"
      },
      "source": [
        "## Regresión Logistica"
      ]
    },
    {
      "cell_type": "code",
      "metadata": {
        "id": "fE5xeGQ2e1dJ",
        "colab": {
          "base_uri": "https://localhost:8080/"
        },
        "outputId": "0b7785de-1914-4076-9d58-2b653322641b"
      },
      "source": [
        "\n",
        "# Vamos a utilizar los datos por defecto del algoritmo para tener una visión inicial de su rendimiento\n",
        "linearModel = LogisticRegression()\n",
        "\n",
        "# Entrenamos el modelo inicial\n",
        "linearModel.fit(X_train, Y_train) "
      ],
      "execution_count": 60,
      "outputs": [
        {
          "output_type": "execute_result",
          "data": {
            "text/plain": [
              "LogisticRegression(C=1.0, class_weight=None, dual=False, fit_intercept=True,\n",
              "                   intercept_scaling=1, l1_ratio=None, max_iter=100,\n",
              "                   multi_class='auto', n_jobs=None, penalty='l2',\n",
              "                   random_state=None, solver='lbfgs', tol=0.0001, verbose=0,\n",
              "                   warm_start=False)"
            ]
          },
          "metadata": {},
          "execution_count": 60
        }
      ]
    },
    {
      "cell_type": "code",
      "metadata": {
        "id": "Dr05SFGYgklC"
      },
      "source": [
        "# Realizamos la predicción sobre los datos de prueba\n",
        "y_pred = linearModel.predict(X_test)"
      ],
      "execution_count": 61,
      "outputs": []
    },
    {
      "cell_type": "code",
      "metadata": {
        "id": "MTasoNumgmmI",
        "colab": {
          "base_uri": "https://localhost:8080/"
        },
        "outputId": "bd7715b0-6adb-44f2-ecc3-180704672671"
      },
      "source": [
        "# Generación de la matriz de confusión\n",
        "confusion_matrix(Y_test, y_pred)"
      ],
      "execution_count": 62,
      "outputs": [
        {
          "output_type": "execute_result",
          "data": {
            "text/plain": [
              "array([[  0, 235],\n",
              "       [  0, 292]])"
            ]
          },
          "metadata": {},
          "execution_count": 62
        }
      ]
    },
    {
      "cell_type": "code",
      "metadata": {
        "id": "p2xqDK2UgrCn",
        "colab": {
          "base_uri": "https://localhost:8080/"
        },
        "outputId": "d275e095-4f70-4298-8780-2c95ef2ecb71"
      },
      "source": [
        "print('Exactitud: %.2f' % accuracy_score(Y_test, y_pred))\n",
        "print(\"Recall: {}\".format(recall_score(Y_test,y_pred)))\n",
        "print(\"Precisión: {}\".format(precision_score(Y_test,y_pred)))\n",
        "print(\"Puntuación F1: {}\".format(f1_score(Y_test,y_pred)))"
      ],
      "execution_count": 63,
      "outputs": [
        {
          "output_type": "stream",
          "name": "stdout",
          "text": [
            "Exactitud: 0.55\n",
            "Recall: 1.0\n",
            "Precisión: 0.5540796963946869\n",
            "Puntuación F1: 0.713064713064713\n"
          ]
        }
      ]
    },
    {
      "cell_type": "code",
      "metadata": {
        "id": "3Tqpx9HlhbZn",
        "colab": {
          "base_uri": "https://localhost:8080/",
          "height": 296
        },
        "outputId": "c272111a-061f-4420-e9cb-bfc5b68c458f"
      },
      "source": [
        "plot_confusion_matrix(linearModel, X_test, Y_test, values_format = '.1f')"
      ],
      "execution_count": 64,
      "outputs": [
        {
          "output_type": "execute_result",
          "data": {
            "text/plain": [
              "<sklearn.metrics._plot.confusion_matrix.ConfusionMatrixDisplay at 0x7fa7c5436990>"
            ]
          },
          "metadata": {},
          "execution_count": 64
        },
        {
          "output_type": "display_data",
          "data": {
            "image/png": "[encoded data removed]",
            "text/plain": [
              "<Figure size 432x288 with 2 Axes>"
            ]
          },
          "metadata": {
            "needs_background": "light"
          }
        }
      ]
    },
    {
      "cell_type": "code",
      "metadata": {
        "id": "3kbgrpPFh299",
        "colab": {
          "base_uri": "https://localhost:8080/"
        },
        "outputId": "521e2501-efbb-4b1e-8c5a-7cb16b50186e"
      },
      "source": [
        "print(classification_report(Y_test, y_pred))"
      ],
      "execution_count": 65,
      "outputs": [
        {
          "output_type": "stream",
          "name": "stdout",
          "text": [
            "              precision    recall  f1-score   support\n",
            "\n",
            "           0       0.00      0.00      0.00       235\n",
            "           1       0.55      1.00      0.71       292\n",
            "\n",
            "    accuracy                           0.55       527\n",
            "   macro avg       0.28      0.50      0.36       527\n",
            "weighted avg       0.31      0.55      0.40       527\n",
            "\n"
          ]
        },
        {
          "output_type": "stream",
          "name": "stderr",
          "text": [
            "/usr/local/lib/python3.7/dist-packages/sklearn/metrics/_classification.py:1272: UndefinedMetricWarning: Precision and F-score are ill-defined and being set to 0.0 in labels with no predicted samples. Use `zero_division` parameter to control this behavior.\n",
            "  _warn_prf(average, modifier, msg_start, len(result))\n"
          ]
        }
      ]
    },
    {
      "cell_type": "code",
      "metadata": {
        "id": "qTH8BiQ5d2MC",
        "colab": {
          "base_uri": "https://localhost:8080/"
        },
        "outputId": "79dfa8f3-5a2e-489c-ec09-a2dc92915548"
      },
      "source": [
        "importancia = linearModel.coef_[0]\n",
        "importancia"
      ],
      "execution_count": 66,
      "outputs": [
        {
          "output_type": "execute_result",
          "data": {
            "text/plain": [
              "array([-0.0499036 , -0.67883236,  0.73682772, -0.14533265])"
            ]
          },
          "metadata": {},
          "execution_count": 66
        }
      ]
    },
    {
      "cell_type": "code",
      "metadata": {
        "id": "pi9rq7-jd4RN",
        "colab": {
          "base_uri": "https://localhost:8080/",
          "height": 174
        },
        "outputId": "e7f76b1b-83cb-482c-8909-1e1613adb6c8"
      },
      "source": [
        "importancia_atributo = pd.DataFrame(data={\"Atributo\": X_train.columns, \"Importancia\": importancia})\n",
        "importancia_atributo = importancia_atributo.sort_values(by=\"Importancia\", ascending=False).reset_index(drop=True)\n",
        "importancia_atributo"
      ],
      "execution_count": 67,
      "outputs": [
        {
          "output_type": "execute_result",
          "data": {
            "text/html": [
              "<div>\n",
              "<style scoped>\n",
              "    .dataframe tbody tr th:only-of-type {\n",
              "        vertical-align: middle;\n",
              "    }\n",
              "\n",
              "    .dataframe tbody tr th {\n",
              "        vertical-align: top;\n",
              "    }\n",
              "\n",
              "    .dataframe thead th {\n",
              "        text-align: right;\n",
              "    }\n",
              "</style>\n",
              "<table border=\"1\" class=\"dataframe\">\n",
              "  <thead>\n",
              "    <tr style=\"text-align: right;\">\n",
              "      <th></th>\n",
              "      <th>Atributo</th>\n",
              "      <th>Importancia</th>\n",
              "    </tr>\n",
              "  </thead>\n",
              "  <tbody>\n",
              "    <tr>\n",
              "      <th>0</th>\n",
              "      <td>positive</td>\n",
              "      <td>0.736828</td>\n",
              "    </tr>\n",
              "    <tr>\n",
              "      <th>1</th>\n",
              "      <td>negative</td>\n",
              "      <td>-0.049904</td>\n",
              "    </tr>\n",
              "    <tr>\n",
              "      <th>2</th>\n",
              "      <td>compound</td>\n",
              "      <td>-0.145333</td>\n",
              "    </tr>\n",
              "    <tr>\n",
              "      <th>3</th>\n",
              "      <td>neutral</td>\n",
              "      <td>-0.678832</td>\n",
              "    </tr>\n",
              "  </tbody>\n",
              "</table>\n",
              "</div>"
            ],
            "text/plain": [
              "   Atributo  Importancia\n",
              "0  positive     0.736828\n",
              "1  negative    -0.049904\n",
              "2  compound    -0.145333\n",
              "3   neutral    -0.678832"
            ]
          },
          "metadata": {},
          "execution_count": 67
        }
      ]
    },
    {
      "cell_type": "markdown",
      "metadata": {
        "id": "ihQvrSz3eJOW"
      },
      "source": [
        "Implementación con K-Fold Crossvalidation"
      ]
    },
    {
      "cell_type": "code",
      "metadata": {
        "id": "8_rBOLK6eC1h"
      },
      "source": [
        "# Fijemos el número de particiones. Utilizaremos K = 10.\n",
        "particiones = KFold(n_splits=10, shuffle=True, random_state = 0)\n",
        "\n",
        "# Establecemos el espacio de búsqueda para los hiperparámetros que deseamos ajustar. \n",
        "param_grid = grid_values = {'penalty': ['l1','l2'], 'C': [0.001,0.01,0.1,1,10,100,1000], \"solver\": [\"newton-cg\", \"lbfgs\", \"liblinear\", \"sag\", \"saga\"]}\n",
        "\n",
        "# Se vuelve a definir el modelo\n",
        "linearModel = LogisticRegression()"
      ],
      "execution_count": 68,
      "outputs": []
    },
    {
      "cell_type": "code",
      "metadata": {
        "id": "CFDUTbojeQlv",
        "colab": {
          "base_uri": "https://localhost:8080/"
        },
        "outputId": "9dccded8-3bf3-437d-f84a-93eb6f9cd1b6"
      },
      "source": [
        "# Ahora utilizamos GridSearch sobre el grid definido y con 10 particiones en la validación cruzada.\n",
        "mejor_modelo = GridSearchCV(linearModel, param_grid, cv=particiones)\n",
        "\n",
        "# Ajuste del modelo\n",
        "mejor_modelo.fit(X_train, Y_train)"
      ],
      "execution_count": 69,
      "outputs": [
        {
          "output_type": "stream",
          "name": "stderr",
          "text": [
            "/usr/local/lib/python3.7/dist-packages/sklearn/model_selection/_validation.py:536: FitFailedWarning: Estimator fit failed. The score on this train-test partition for these parameters will be set to nan. Details: \n",
            "ValueError: Solver newton-cg supports only 'l2' or 'none' penalties, got l1 penalty.\n",
            "\n",
            "  FitFailedWarning)\n",
            "/usr/local/lib/python3.7/dist-packages/sklearn/model_selection/_validation.py:536: FitFailedWarning: Estimator fit failed. The score on this train-test partition for these parameters will be set to nan. Details: \n",
            "ValueError: Solver lbfgs supports only 'l2' or 'none' penalties, got l1 penalty.\n",
            "\n",
            "  FitFailedWarning)\n",
            "/usr/local/lib/python3.7/dist-packages/sklearn/model_selection/_validation.py:536: FitFailedWarning: Estimator fit failed. The score on this train-test partition for these parameters will be set to nan. Details: \n",
            "ValueError: Solver sag supports only 'l2' or 'none' penalties, got l1 penalty.\n",
            "\n",
            "  FitFailedWarning)\n",
            "/usr/local/lib/python3.7/dist-packages/sklearn/model_selection/_validation.py:536: FitFailedWarning: Estimator fit failed. The score on this train-test partition for these parameters will be set to nan. Details: \n",
            "ValueError: Solver newton-cg supports only 'l2' or 'none' penalties, got l1 penalty.\n",
            "\n",
            "  FitFailedWarning)\n",
            "/usr/local/lib/python3.7/dist-packages/sklearn/model_selection/_validation.py:536: FitFailedWarning: Estimator fit failed. The score on this train-test partition for these parameters will be set to nan. Details: \n",
            "ValueError: Solver lbfgs supports only 'l2' or 'none' penalties, got l1 penalty.\n",
            "\n",
            "  FitFailedWarning)\n",
            "/usr/local/lib/python3.7/dist-packages/sklearn/model_selection/_validation.py:536: FitFailedWarning: Estimator fit failed. The score on this train-test partition for these parameters will be set to nan. Details: \n",
            "ValueError: Solver sag supports only 'l2' or 'none' penalties, got l1 penalty.\n",
            "\n",
            "  FitFailedWarning)\n",
            "/usr/local/lib/python3.7/dist-packages/sklearn/model_selection/_validation.py:536: FitFailedWarning: Estimator fit failed. The score on this train-test partition for these parameters will be set to nan. Details: \n",
            "ValueError: Solver newton-cg supports only 'l2' or 'none' penalties, got l1 penalty.\n",
            "\n",
            "  FitFailedWarning)\n",
            "/usr/local/lib/python3.7/dist-packages/sklearn/model_selection/_validation.py:536: FitFailedWarning: Estimator fit failed. The score on this train-test partition for these parameters will be set to nan. Details: \n",
            "ValueError: Solver lbfgs supports only 'l2' or 'none' penalties, got l1 penalty.\n",
            "\n",
            "  FitFailedWarning)\n",
            "/usr/local/lib/python3.7/dist-packages/sklearn/model_selection/_validation.py:536: FitFailedWarning: Estimator fit failed. The score on this train-test partition for these parameters will be set to nan. Details: \n",
            "ValueError: Solver sag supports only 'l2' or 'none' penalties, got l1 penalty.\n",
            "\n",
            "  FitFailedWarning)\n",
            "/usr/local/lib/python3.7/dist-packages/sklearn/model_selection/_validation.py:536: FitFailedWarning: Estimator fit failed. The score on this train-test partition for these parameters will be set to nan. Details: \n",
            "ValueError: Solver newton-cg supports only 'l2' or 'none' penalties, got l1 penalty.\n",
            "\n",
            "  FitFailedWarning)\n",
            "/usr/local/lib/python3.7/dist-packages/sklearn/model_selection/_validation.py:536: FitFailedWarning: Estimator fit failed. The score on this train-test partition for these parameters will be set to nan. Details: \n",
            "ValueError: Solver lbfgs supports only 'l2' or 'none' penalties, got l1 penalty.\n",
            "\n",
            "  FitFailedWarning)\n",
            "/usr/local/lib/python3.7/dist-packages/sklearn/model_selection/_validation.py:536: FitFailedWarning: Estimator fit failed. The score on this train-test partition for these parameters will be set to nan. Details: \n",
            "ValueError: Solver sag supports only 'l2' or 'none' penalties, got l1 penalty.\n",
            "\n",
            "  FitFailedWarning)\n",
            "/usr/local/lib/python3.7/dist-packages/sklearn/linear_model/_sag.py:330: ConvergenceWarning: The max_iter was reached which means the coef_ did not converge\n",
            "  \"the coef_ did not converge\", ConvergenceWarning)\n",
            "/usr/local/lib/python3.7/dist-packages/sklearn/model_selection/_validation.py:536: FitFailedWarning: Estimator fit failed. The score on this train-test partition for these parameters will be set to nan. Details: \n",
            "ValueError: Solver newton-cg supports only 'l2' or 'none' penalties, got l1 penalty.\n",
            "\n",
            "  FitFailedWarning)\n",
            "/usr/local/lib/python3.7/dist-packages/sklearn/model_selection/_validation.py:536: FitFailedWarning: Estimator fit failed. The score on this train-test partition for these parameters will be set to nan. Details: \n",
            "ValueError: Solver lbfgs supports only 'l2' or 'none' penalties, got l1 penalty.\n",
            "\n",
            "  FitFailedWarning)\n",
            "/usr/local/lib/python3.7/dist-packages/sklearn/model_selection/_validation.py:536: FitFailedWarning: Estimator fit failed. The score on this train-test partition for these parameters will be set to nan. Details: \n",
            "ValueError: Solver sag supports only 'l2' or 'none' penalties, got l1 penalty.\n",
            "\n",
            "  FitFailedWarning)\n",
            "/usr/local/lib/python3.7/dist-packages/sklearn/linear_model/_sag.py:330: ConvergenceWarning: The max_iter was reached which means the coef_ did not converge\n",
            "  \"the coef_ did not converge\", ConvergenceWarning)\n",
            "/usr/local/lib/python3.7/dist-packages/sklearn/linear_model/_sag.py:330: ConvergenceWarning: The max_iter was reached which means the coef_ did not converge\n",
            "  \"the coef_ did not converge\", ConvergenceWarning)\n",
            "/usr/local/lib/python3.7/dist-packages/sklearn/linear_model/_sag.py:330: ConvergenceWarning: The max_iter was reached which means the coef_ did not converge\n",
            "  \"the coef_ did not converge\", ConvergenceWarning)\n",
            "/usr/local/lib/python3.7/dist-packages/sklearn/linear_model/_sag.py:330: ConvergenceWarning: The max_iter was reached which means the coef_ did not converge\n",
            "  \"the coef_ did not converge\", ConvergenceWarning)\n",
            "/usr/local/lib/python3.7/dist-packages/sklearn/model_selection/_validation.py:536: FitFailedWarning: Estimator fit failed. The score on this train-test partition for these parameters will be set to nan. Details: \n",
            "ValueError: Solver newton-cg supports only 'l2' or 'none' penalties, got l1 penalty.\n",
            "\n",
            "  FitFailedWarning)\n",
            "/usr/local/lib/python3.7/dist-packages/sklearn/model_selection/_validation.py:536: FitFailedWarning: Estimator fit failed. The score on this train-test partition for these parameters will be set to nan. Details: \n",
            "ValueError: Solver lbfgs supports only 'l2' or 'none' penalties, got l1 penalty.\n",
            "\n",
            "  FitFailedWarning)\n",
            "/usr/local/lib/python3.7/dist-packages/sklearn/svm/_base.py:947: ConvergenceWarning: Liblinear failed to converge, increase the number of iterations.\n",
            "  \"the number of iterations.\", ConvergenceWarning)\n",
            "/usr/local/lib/python3.7/dist-packages/sklearn/model_selection/_validation.py:536: FitFailedWarning: Estimator fit failed. The score on this train-test partition for these parameters will be set to nan. Details: \n",
            "ValueError: Solver sag supports only 'l2' or 'none' penalties, got l1 penalty.\n",
            "\n",
            "  FitFailedWarning)\n",
            "/usr/local/lib/python3.7/dist-packages/sklearn/linear_model/_sag.py:330: ConvergenceWarning: The max_iter was reached which means the coef_ did not converge\n",
            "  \"the coef_ did not converge\", ConvergenceWarning)\n",
            "/usr/local/lib/python3.7/dist-packages/sklearn/linear_model/_sag.py:330: ConvergenceWarning: The max_iter was reached which means the coef_ did not converge\n",
            "  \"the coef_ did not converge\", ConvergenceWarning)\n",
            "/usr/local/lib/python3.7/dist-packages/sklearn/linear_model/_sag.py:330: ConvergenceWarning: The max_iter was reached which means the coef_ did not converge\n",
            "  \"the coef_ did not converge\", ConvergenceWarning)\n",
            "/usr/local/lib/python3.7/dist-packages/sklearn/linear_model/_sag.py:330: ConvergenceWarning: The max_iter was reached which means the coef_ did not converge\n",
            "  \"the coef_ did not converge\", ConvergenceWarning)\n",
            "/usr/local/lib/python3.7/dist-packages/sklearn/linear_model/_sag.py:330: ConvergenceWarning: The max_iter was reached which means the coef_ did not converge\n",
            "  \"the coef_ did not converge\", ConvergenceWarning)\n",
            "/usr/local/lib/python3.7/dist-packages/sklearn/linear_model/_sag.py:330: ConvergenceWarning: The max_iter was reached which means the coef_ did not converge\n",
            "  \"the coef_ did not converge\", ConvergenceWarning)\n",
            "/usr/local/lib/python3.7/dist-packages/sklearn/linear_model/_sag.py:330: ConvergenceWarning: The max_iter was reached which means the coef_ did not converge\n",
            "  \"the coef_ did not converge\", ConvergenceWarning)\n",
            "/usr/local/lib/python3.7/dist-packages/sklearn/linear_model/_sag.py:330: ConvergenceWarning: The max_iter was reached which means the coef_ did not converge\n",
            "  \"the coef_ did not converge\", ConvergenceWarning)\n",
            "/usr/local/lib/python3.7/dist-packages/sklearn/linear_model/_sag.py:330: ConvergenceWarning: The max_iter was reached which means the coef_ did not converge\n",
            "  \"the coef_ did not converge\", ConvergenceWarning)\n",
            "/usr/local/lib/python3.7/dist-packages/sklearn/linear_model/_sag.py:330: ConvergenceWarning: The max_iter was reached which means the coef_ did not converge\n",
            "  \"the coef_ did not converge\", ConvergenceWarning)\n",
            "/usr/local/lib/python3.7/dist-packages/sklearn/linear_model/_sag.py:330: ConvergenceWarning: The max_iter was reached which means the coef_ did not converge\n",
            "  \"the coef_ did not converge\", ConvergenceWarning)\n",
            "/usr/local/lib/python3.7/dist-packages/sklearn/linear_model/_sag.py:330: ConvergenceWarning: The max_iter was reached which means the coef_ did not converge\n",
            "  \"the coef_ did not converge\", ConvergenceWarning)\n",
            "/usr/local/lib/python3.7/dist-packages/sklearn/linear_model/_sag.py:330: ConvergenceWarning: The max_iter was reached which means the coef_ did not converge\n",
            "  \"the coef_ did not converge\", ConvergenceWarning)\n",
            "/usr/local/lib/python3.7/dist-packages/sklearn/linear_model/_sag.py:330: ConvergenceWarning: The max_iter was reached which means the coef_ did not converge\n",
            "  \"the coef_ did not converge\", ConvergenceWarning)\n",
            "/usr/local/lib/python3.7/dist-packages/sklearn/linear_model/_sag.py:330: ConvergenceWarning: The max_iter was reached which means the coef_ did not converge\n",
            "  \"the coef_ did not converge\", ConvergenceWarning)\n",
            "/usr/local/lib/python3.7/dist-packages/sklearn/linear_model/_sag.py:330: ConvergenceWarning: The max_iter was reached which means the coef_ did not converge\n",
            "  \"the coef_ did not converge\", ConvergenceWarning)\n",
            "/usr/local/lib/python3.7/dist-packages/sklearn/linear_model/_sag.py:330: ConvergenceWarning: The max_iter was reached which means the coef_ did not converge\n",
            "  \"the coef_ did not converge\", ConvergenceWarning)\n",
            "/usr/local/lib/python3.7/dist-packages/sklearn/linear_model/_sag.py:330: ConvergenceWarning: The max_iter was reached which means the coef_ did not converge\n",
            "  \"the coef_ did not converge\", ConvergenceWarning)\n",
            "/usr/local/lib/python3.7/dist-packages/sklearn/linear_model/_sag.py:330: ConvergenceWarning: The max_iter was reached which means the coef_ did not converge\n",
            "  \"the coef_ did not converge\", ConvergenceWarning)\n",
            "/usr/local/lib/python3.7/dist-packages/sklearn/linear_model/_sag.py:330: ConvergenceWarning: The max_iter was reached which means the coef_ did not converge\n",
            "  \"the coef_ did not converge\", ConvergenceWarning)\n",
            "/usr/local/lib/python3.7/dist-packages/sklearn/linear_model/_sag.py:330: ConvergenceWarning: The max_iter was reached which means the coef_ did not converge\n",
            "  \"the coef_ did not converge\", ConvergenceWarning)\n",
            "/usr/local/lib/python3.7/dist-packages/sklearn/linear_model/_sag.py:330: ConvergenceWarning: The max_iter was reached which means the coef_ did not converge\n",
            "  \"the coef_ did not converge\", ConvergenceWarning)\n",
            "/usr/local/lib/python3.7/dist-packages/sklearn/model_selection/_validation.py:536: FitFailedWarning: Estimator fit failed. The score on this train-test partition for these parameters will be set to nan. Details: \n",
            "ValueError: Solver newton-cg supports only 'l2' or 'none' penalties, got l1 penalty.\n",
            "\n",
            "  FitFailedWarning)\n",
            "/usr/local/lib/python3.7/dist-packages/sklearn/model_selection/_validation.py:536: FitFailedWarning: Estimator fit failed. The score on this train-test partition for these parameters will be set to nan. Details: \n",
            "ValueError: Solver lbfgs supports only 'l2' or 'none' penalties, got l1 penalty.\n",
            "\n",
            "  FitFailedWarning)\n",
            "/usr/local/lib/python3.7/dist-packages/sklearn/svm/_base.py:947: ConvergenceWarning: Liblinear failed to converge, increase the number of iterations.\n",
            "  \"the number of iterations.\", ConvergenceWarning)\n",
            "/usr/local/lib/python3.7/dist-packages/sklearn/svm/_base.py:947: ConvergenceWarning: Liblinear failed to converge, increase the number of iterations.\n",
            "  \"the number of iterations.\", ConvergenceWarning)\n",
            "/usr/local/lib/python3.7/dist-packages/sklearn/svm/_base.py:947: ConvergenceWarning: Liblinear failed to converge, increase the number of iterations.\n",
            "  \"the number of iterations.\", ConvergenceWarning)\n",
            "/usr/local/lib/python3.7/dist-packages/sklearn/model_selection/_validation.py:536: FitFailedWarning: Estimator fit failed. The score on this train-test partition for these parameters will be set to nan. Details: \n",
            "ValueError: Solver sag supports only 'l2' or 'none' penalties, got l1 penalty.\n",
            "\n",
            "  FitFailedWarning)\n",
            "/usr/local/lib/python3.7/dist-packages/sklearn/linear_model/_sag.py:330: ConvergenceWarning: The max_iter was reached which means the coef_ did not converge\n",
            "  \"the coef_ did not converge\", ConvergenceWarning)\n",
            "/usr/local/lib/python3.7/dist-packages/sklearn/linear_model/_sag.py:330: ConvergenceWarning: The max_iter was reached which means the coef_ did not converge\n",
            "  \"the coef_ did not converge\", ConvergenceWarning)\n",
            "/usr/local/lib/python3.7/dist-packages/sklearn/linear_model/_sag.py:330: ConvergenceWarning: The max_iter was reached which means the coef_ did not converge\n",
            "  \"the coef_ did not converge\", ConvergenceWarning)\n",
            "/usr/local/lib/python3.7/dist-packages/sklearn/linear_model/_sag.py:330: ConvergenceWarning: The max_iter was reached which means the coef_ did not converge\n",
            "  \"the coef_ did not converge\", ConvergenceWarning)\n",
            "/usr/local/lib/python3.7/dist-packages/sklearn/linear_model/_sag.py:330: ConvergenceWarning: The max_iter was reached which means the coef_ did not converge\n",
            "  \"the coef_ did not converge\", ConvergenceWarning)\n",
            "/usr/local/lib/python3.7/dist-packages/sklearn/linear_model/_sag.py:330: ConvergenceWarning: The max_iter was reached which means the coef_ did not converge\n",
            "  \"the coef_ did not converge\", ConvergenceWarning)\n",
            "/usr/local/lib/python3.7/dist-packages/sklearn/linear_model/_sag.py:330: ConvergenceWarning: The max_iter was reached which means the coef_ did not converge\n",
            "  \"the coef_ did not converge\", ConvergenceWarning)\n",
            "/usr/local/lib/python3.7/dist-packages/sklearn/linear_model/_sag.py:330: ConvergenceWarning: The max_iter was reached which means the coef_ did not converge\n",
            "  \"the coef_ did not converge\", ConvergenceWarning)\n",
            "/usr/local/lib/python3.7/dist-packages/sklearn/linear_model/_sag.py:330: ConvergenceWarning: The max_iter was reached which means the coef_ did not converge\n",
            "  \"the coef_ did not converge\", ConvergenceWarning)\n",
            "/usr/local/lib/python3.7/dist-packages/sklearn/linear_model/_sag.py:330: ConvergenceWarning: The max_iter was reached which means the coef_ did not converge\n",
            "  \"the coef_ did not converge\", ConvergenceWarning)\n",
            "/usr/local/lib/python3.7/dist-packages/sklearn/linear_model/_sag.py:330: ConvergenceWarning: The max_iter was reached which means the coef_ did not converge\n",
            "  \"the coef_ did not converge\", ConvergenceWarning)\n",
            "/usr/local/lib/python3.7/dist-packages/sklearn/linear_model/_sag.py:330: ConvergenceWarning: The max_iter was reached which means the coef_ did not converge\n",
            "  \"the coef_ did not converge\", ConvergenceWarning)\n",
            "/usr/local/lib/python3.7/dist-packages/sklearn/linear_model/_sag.py:330: ConvergenceWarning: The max_iter was reached which means the coef_ did not converge\n",
            "  \"the coef_ did not converge\", ConvergenceWarning)\n",
            "/usr/local/lib/python3.7/dist-packages/sklearn/linear_model/_sag.py:330: ConvergenceWarning: The max_iter was reached which means the coef_ did not converge\n",
            "  \"the coef_ did not converge\", ConvergenceWarning)\n",
            "/usr/local/lib/python3.7/dist-packages/sklearn/linear_model/_sag.py:330: ConvergenceWarning: The max_iter was reached which means the coef_ did not converge\n",
            "  \"the coef_ did not converge\", ConvergenceWarning)\n",
            "/usr/local/lib/python3.7/dist-packages/sklearn/linear_model/_sag.py:330: ConvergenceWarning: The max_iter was reached which means the coef_ did not converge\n",
            "  \"the coef_ did not converge\", ConvergenceWarning)\n",
            "/usr/local/lib/python3.7/dist-packages/sklearn/linear_model/_sag.py:330: ConvergenceWarning: The max_iter was reached which means the coef_ did not converge\n",
            "  \"the coef_ did not converge\", ConvergenceWarning)\n",
            "/usr/local/lib/python3.7/dist-packages/sklearn/linear_model/_sag.py:330: ConvergenceWarning: The max_iter was reached which means the coef_ did not converge\n",
            "  \"the coef_ did not converge\", ConvergenceWarning)\n",
            "/usr/local/lib/python3.7/dist-packages/sklearn/linear_model/_sag.py:330: ConvergenceWarning: The max_iter was reached which means the coef_ did not converge\n",
            "  \"the coef_ did not converge\", ConvergenceWarning)\n",
            "/usr/local/lib/python3.7/dist-packages/sklearn/linear_model/_sag.py:330: ConvergenceWarning: The max_iter was reached which means the coef_ did not converge\n",
            "  \"the coef_ did not converge\", ConvergenceWarning)\n",
            "/usr/local/lib/python3.7/dist-packages/sklearn/linear_model/_sag.py:330: ConvergenceWarning: The max_iter was reached which means the coef_ did not converge\n",
            "  \"the coef_ did not converge\", ConvergenceWarning)\n",
            "/usr/local/lib/python3.7/dist-packages/sklearn/linear_model/_sag.py:330: ConvergenceWarning: The max_iter was reached which means the coef_ did not converge\n",
            "  \"the coef_ did not converge\", ConvergenceWarning)\n",
            "/usr/local/lib/python3.7/dist-packages/sklearn/linear_model/_sag.py:330: ConvergenceWarning: The max_iter was reached which means the coef_ did not converge\n",
            "  \"the coef_ did not converge\", ConvergenceWarning)\n",
            "/usr/local/lib/python3.7/dist-packages/sklearn/linear_model/_sag.py:330: ConvergenceWarning: The max_iter was reached which means the coef_ did not converge\n",
            "  \"the coef_ did not converge\", ConvergenceWarning)\n",
            "/usr/local/lib/python3.7/dist-packages/sklearn/linear_model/_sag.py:330: ConvergenceWarning: The max_iter was reached which means the coef_ did not converge\n",
            "  \"the coef_ did not converge\", ConvergenceWarning)\n",
            "/usr/local/lib/python3.7/dist-packages/sklearn/linear_model/_sag.py:330: ConvergenceWarning: The max_iter was reached which means the coef_ did not converge\n",
            "  \"the coef_ did not converge\", ConvergenceWarning)\n",
            "/usr/local/lib/python3.7/dist-packages/sklearn/linear_model/_sag.py:330: ConvergenceWarning: The max_iter was reached which means the coef_ did not converge\n",
            "  \"the coef_ did not converge\", ConvergenceWarning)\n",
            "/usr/local/lib/python3.7/dist-packages/sklearn/linear_model/_sag.py:330: ConvergenceWarning: The max_iter was reached which means the coef_ did not converge\n",
            "  \"the coef_ did not converge\", ConvergenceWarning)\n",
            "/usr/local/lib/python3.7/dist-packages/sklearn/linear_model/_sag.py:330: ConvergenceWarning: The max_iter was reached which means the coef_ did not converge\n",
            "  \"the coef_ did not converge\", ConvergenceWarning)\n",
            "/usr/local/lib/python3.7/dist-packages/sklearn/linear_model/_sag.py:330: ConvergenceWarning: The max_iter was reached which means the coef_ did not converge\n",
            "  \"the coef_ did not converge\", ConvergenceWarning)\n"
          ]
        },
        {
          "output_type": "execute_result",
          "data": {
            "text/plain": [
              "GridSearchCV(cv=KFold(n_splits=10, random_state=0, shuffle=True),\n",
              "             error_score=nan,\n",
              "             estimator=LogisticRegression(C=1.0, class_weight=None, dual=False,\n",
              "                                          fit_intercept=True,\n",
              "                                          intercept_scaling=1, l1_ratio=None,\n",
              "                                          max_iter=100, multi_class='auto',\n",
              "                                          n_jobs=None, penalty='l2',\n",
              "                                          random_state=None, solver='lbfgs',\n",
              "                                          tol=0.0001, verbose=0,\n",
              "                                          warm_start=False),\n",
              "             iid='deprecated', n_jobs=None,\n",
              "             param_grid={'C': [0.001, 0.01, 0.1, 1, 10, 100, 1000],\n",
              "                         'penalty': ['l1', 'l2'],\n",
              "                         'solver': ['newton-cg', 'lbfgs', 'liblinear', 'sag',\n",
              "                                    'saga']},\n",
              "             pre_dispatch='2*n_jobs', refit=True, return_train_score=False,\n",
              "             scoring=None, verbose=0)"
            ]
          },
          "metadata": {},
          "execution_count": 69
        }
      ]
    },
    {
      "cell_type": "code",
      "metadata": {
        "id": "_5dUqZXqeZXT",
        "colab": {
          "base_uri": "https://localhost:8080/"
        },
        "outputId": "7ba43dfc-5466-42c3-9e41-07bef4e9c6a5"
      },
      "source": [
        "mejor_modelo.best_params_"
      ],
      "execution_count": 70,
      "outputs": [
        {
          "output_type": "execute_result",
          "data": {
            "text/plain": [
              "{'C': 0.001, 'penalty': 'l1', 'solver': 'saga'}"
            ]
          },
          "metadata": {},
          "execution_count": 70
        }
      ]
    },
    {
      "cell_type": "code",
      "metadata": {
        "id": "c0pc2JiqeSF6",
        "colab": {
          "base_uri": "https://localhost:8080/"
        },
        "outputId": "ade48eb2-9e1e-4f60-9307-2b63b29ad929"
      },
      "source": [
        "modelo_lineal_final = mejor_modelo.best_estimator_\n",
        "# Probemos ahora este modelo sobre test.\n",
        "y_pred_train = modelo_lineal_final.predict(X_train)\n",
        "y_pred_test = modelo_lineal_final.predict(X_test)\n",
        "modelo_lineal_final =modelo_lineal_final.fit(X_train,Y_train)\n",
        "print('Exactitud sobre entrenamiento: %.2f' % accuracy_score(Y_train, y_pred_train))\n",
        "print('Exactitud sobre test: %.2f' % accuracy_score(Y_test, y_pred_test))\n",
        "print('Recall sobre entrenamiento: %.2f' % recall_score(Y_train, y_pred_train))\n",
        "print('Recall sobre test: %.2f' % recall_score(Y_test, y_pred_test))\n",
        "print('Precision sobre entrenamiento: %.2f' % precision_score(Y_train, y_pred_train))\n",
        "print('Precision sobre test: %.2f' % precision_score(Y_test, y_pred_test))\n",
        "print('f1 sobre entrenamiento: %.2f' % f1_score(Y_train, y_pred_train))\n",
        "print('f1 sobre test: %.2f' % f1_score(Y_test, y_pred_test))"
      ],
      "execution_count": 71,
      "outputs": [
        {
          "output_type": "stream",
          "name": "stdout",
          "text": [
            "Exactitud sobre entrenamiento: 0.44\n",
            "Exactitud sobre test: 0.45\n",
            "Recall sobre entrenamiento: 0.00\n",
            "Recall sobre test: 0.00\n",
            "Precision sobre entrenamiento: 0.00\n",
            "Precision sobre test: 0.00\n",
            "f1 sobre entrenamiento: 0.00\n",
            "f1 sobre test: 0.00\n"
          ]
        },
        {
          "output_type": "stream",
          "name": "stderr",
          "text": [
            "/usr/local/lib/python3.7/dist-packages/sklearn/metrics/_classification.py:1272: UndefinedMetricWarning: Precision is ill-defined and being set to 0.0 due to no predicted samples. Use `zero_division` parameter to control this behavior.\n",
            "  _warn_prf(average, modifier, msg_start, len(result))\n"
          ]
        }
      ]
    },
    {
      "cell_type": "code",
      "metadata": {
        "id": "FGrRIXZbekzc",
        "colab": {
          "base_uri": "https://localhost:8080/"
        },
        "outputId": "07d01042-7c8e-4dcd-8268-8cf257a7e977"
      },
      "source": [
        "print(classification_report(Y_test, y_pred_test))"
      ],
      "execution_count": 72,
      "outputs": [
        {
          "output_type": "stream",
          "name": "stdout",
          "text": [
            "              precision    recall  f1-score   support\n",
            "\n",
            "           0       0.45      1.00      0.62       235\n",
            "           1       0.00      0.00      0.00       292\n",
            "\n",
            "    accuracy                           0.45       527\n",
            "   macro avg       0.22      0.50      0.31       527\n",
            "weighted avg       0.20      0.45      0.28       527\n",
            "\n"
          ]
        },
        {
          "output_type": "stream",
          "name": "stderr",
          "text": [
            "/usr/local/lib/python3.7/dist-packages/sklearn/metrics/_classification.py:1272: UndefinedMetricWarning: Precision and F-score are ill-defined and being set to 0.0 in labels with no predicted samples. Use `zero_division` parameter to control this behavior.\n",
            "  _warn_prf(average, modifier, msg_start, len(result))\n"
          ]
        }
      ]
    },
    {
      "cell_type": "code",
      "metadata": {
        "id": "36jGByAIenF-",
        "colab": {
          "base_uri": "https://localhost:8080/",
          "height": 296
        },
        "outputId": "43d40354-7e1e-49ac-a39b-7255a7eb30e7"
      },
      "source": [
        "plot_confusion_matrix(modelo_lineal_final, X_test, Y_test, values_format = '.1f')  "
      ],
      "execution_count": 73,
      "outputs": [
        {
          "output_type": "execute_result",
          "data": {
            "text/plain": [
              "<sklearn.metrics._plot.confusion_matrix.ConfusionMatrixDisplay at 0x7fa7bb31e890>"
            ]
          },
          "metadata": {},
          "execution_count": 73
        },
        {
          "output_type": "display_data",
          "data": {
            "image/png": "[encoded data removed]",
            "text/plain": [
              "<Figure size 432x288 with 2 Axes>"
            ]
          },
          "metadata": {
            "needs_background": "light"
          }
        }
      ]
    },
    {
      "cell_type": "code",
      "metadata": {
        "id": "2rVFMsXUgcTk",
        "colab": {
          "base_uri": "https://localhost:8080/"
        },
        "outputId": "54eaa3ec-4185-4986-a0e3-1ab126599f37"
      },
      "source": [
        "# Guarda los resultados del modelo de la regresión logística \n",
        "comparision_table[\"LogisticRegresion\"] = []\n",
        "comparision_table[\"LogisticRegresion\"].append(accuracy_score(Y_test, y_pred_test))\n",
        "comparision_table[\"LogisticRegresion\"].append(recall_score(Y_test, y_pred_test))\n",
        "comparision_table[\"LogisticRegresion\"].append(precision_score(Y_test, y_pred_test))\n",
        "comparision_table[\"LogisticRegresion\"].append(f1_score(Y_test, y_pred_test))\n",
        "\n",
        "\n"
      ],
      "execution_count": 74,
      "outputs": [
        {
          "output_type": "stream",
          "name": "stderr",
          "text": [
            "/usr/local/lib/python3.7/dist-packages/sklearn/metrics/_classification.py:1272: UndefinedMetricWarning: Precision is ill-defined and being set to 0.0 due to no predicted samples. Use `zero_division` parameter to control this behavior.\n",
            "  _warn_prf(average, modifier, msg_start, len(result))\n"
          ]
        }
      ]
    },
    {
      "cell_type": "markdown",
      "metadata": {
        "id": "FUn-AHtBl6nX"
      },
      "source": [
        "**Árbol de desición**"
      ]
    },
    {
      "cell_type": "code",
      "metadata": {
        "id": "mjO47Eyul5cB"
      },
      "source": [
        "arbol = DecisionTreeClassifier(criterion='entropy', random_state=0)"
      ],
      "execution_count": 75,
      "outputs": []
    },
    {
      "cell_type": "code",
      "metadata": {
        "id": "5olcX-tJmPV9"
      },
      "source": [
        "# Entrenar el modelo de arbol de decisión con los datos de entrenamiento\n",
        "arbol = arbol.fit(X_train,Y_train)"
      ],
      "execution_count": 76,
      "outputs": []
    },
    {
      "cell_type": "code",
      "metadata": {
        "id": "W5PC2lZlmTCC"
      },
      "source": [
        "# Determinamos las predicciones del modelo sobre el conjunto test.\n",
        "y_pred = arbol.predict(X_test)"
      ],
      "execution_count": 77,
      "outputs": []
    },
    {
      "cell_type": "code",
      "metadata": {
        "id": "LlzbyGunmUxx",
        "colab": {
          "base_uri": "https://localhost:8080/"
        },
        "outputId": "b7430ff1-9013-4a8b-dd03-eae74d81027f"
      },
      "source": [
        "# Se genera la matriz de confusión\n",
        "confusion_matrix(Y_test, y_pred)"
      ],
      "execution_count": 78,
      "outputs": [
        {
          "output_type": "execute_result",
          "data": {
            "text/plain": [
              "array([[109, 126],\n",
              "       [129, 163]])"
            ]
          },
          "metadata": {},
          "execution_count": 78
        }
      ]
    },
    {
      "cell_type": "code",
      "metadata": {
        "id": "0-E7JqoVmXH4",
        "colab": {
          "base_uri": "https://localhost:8080/",
          "height": 279
        },
        "outputId": "3e623d98-6610-4ab3-e633-9219741c4e74"
      },
      "source": [
        "# Se puede visualizar la matriz de confusión\n",
        "plot_confusion_matrix(arbol, X_test, Y_test, values_format = '.2f')  \n",
        "plt.show()  "
      ],
      "execution_count": 79,
      "outputs": [
        {
          "output_type": "display_data",
          "data": {
            "image/png": "[encoded data removed]",
            "text/plain": [
              "<Figure size 432x288 with 2 Axes>"
            ]
          },
          "metadata": {
            "needs_background": "light"
          }
        }
      ]
    },
    {
      "cell_type": "code",
      "metadata": {
        "id": "eidW6C2_mZ-f",
        "colab": {
          "base_uri": "https://localhost:8080/"
        },
        "outputId": "9da436ab-6bdd-442a-bca7-7941dfdc632a"
      },
      "source": [
        "print('Exactitud: %.2f' % accuracy_score(Y_test, y_pred))\n",
        "print(\"Recall: {}\".format(recall_score(Y_test,y_pred)))\n",
        "print(\"Precisión: {}\".format(precision_score(Y_test,y_pred)))\n",
        "print(\"Puntuación F1: {}\".format(f1_score(Y_test,y_pred)))"
      ],
      "execution_count": 80,
      "outputs": [
        {
          "output_type": "stream",
          "name": "stdout",
          "text": [
            "Exactitud: 0.52\n",
            "Recall: 0.5582191780821918\n",
            "Precisión: 0.5640138408304498\n",
            "Puntuación F1: 0.5611015490533563\n"
          ]
        }
      ]
    },
    {
      "cell_type": "code",
      "metadata": {
        "id": "qhTg45cWmceb",
        "colab": {
          "base_uri": "https://localhost:8080/"
        },
        "outputId": "fe5015ba-3404-4937-aa55-9b9cc537aaea"
      },
      "source": [
        "# Mostrar reporte de clasificación\n",
        "print(classification_report(Y_test, y_pred))"
      ],
      "execution_count": 81,
      "outputs": [
        {
          "output_type": "stream",
          "name": "stdout",
          "text": [
            "              precision    recall  f1-score   support\n",
            "\n",
            "           0       0.46      0.46      0.46       235\n",
            "           1       0.56      0.56      0.56       292\n",
            "\n",
            "    accuracy                           0.52       527\n",
            "   macro avg       0.51      0.51      0.51       527\n",
            "weighted avg       0.52      0.52      0.52       527\n",
            "\n"
          ]
        }
      ]
    },
    {
      "cell_type": "code",
      "metadata": {
        "id": "WN4RxA1Qme3E",
        "colab": {
          "base_uri": "https://localhost:8080/"
        },
        "outputId": "c6e157e1-33dd-423b-eda5-a1471c24566f"
      },
      "source": [
        "importancia= arbol.feature_importances_\n",
        "importancia"
      ],
      "execution_count": 82,
      "outputs": [
        {
          "output_type": "execute_result",
          "data": {
            "text/plain": [
              "array([0.20148533, 0.2445862 , 0.25318618, 0.30074229])"
            ]
          },
          "metadata": {},
          "execution_count": 82
        }
      ]
    },
    {
      "cell_type": "code",
      "metadata": {
        "id": "IoAAQlEFmiXM",
        "colab": {
          "base_uri": "https://localhost:8080/",
          "height": 174
        },
        "outputId": "9e128ebd-369f-41ad-ca8a-f32bb5b2f368"
      },
      "source": [
        "importancia_atributo = pd.DataFrame(data={\"Atributo\": X_train.columns,\"Importancia\": importancia})\n",
        "importancia_atributo = importancia_atributo.sort_values(by='Importancia', ascending=False).reset_index(drop=True)\n",
        "importancia_atributo"
      ],
      "execution_count": 83,
      "outputs": [
        {
          "output_type": "execute_result",
          "data": {
            "text/html": [
              "<div>\n",
              "<style scoped>\n",
              "    .dataframe tbody tr th:only-of-type {\n",
              "        vertical-align: middle;\n",
              "    }\n",
              "\n",
              "    .dataframe tbody tr th {\n",
              "        vertical-align: top;\n",
              "    }\n",
              "\n",
              "    .dataframe thead th {\n",
              "        text-align: right;\n",
              "    }\n",
              "</style>\n",
              "<table border=\"1\" class=\"dataframe\">\n",
              "  <thead>\n",
              "    <tr style=\"text-align: right;\">\n",
              "      <th></th>\n",
              "      <th>Atributo</th>\n",
              "      <th>Importancia</th>\n",
              "    </tr>\n",
              "  </thead>\n",
              "  <tbody>\n",
              "    <tr>\n",
              "      <th>0</th>\n",
              "      <td>compound</td>\n",
              "      <td>0.300742</td>\n",
              "    </tr>\n",
              "    <tr>\n",
              "      <th>1</th>\n",
              "      <td>positive</td>\n",
              "      <td>0.253186</td>\n",
              "    </tr>\n",
              "    <tr>\n",
              "      <th>2</th>\n",
              "      <td>neutral</td>\n",
              "      <td>0.244586</td>\n",
              "    </tr>\n",
              "    <tr>\n",
              "      <th>3</th>\n",
              "      <td>negative</td>\n",
              "      <td>0.201485</td>\n",
              "    </tr>\n",
              "  </tbody>\n",
              "</table>\n",
              "</div>"
            ],
            "text/plain": [
              "   Atributo  Importancia\n",
              "0  compound     0.300742\n",
              "1  positive     0.253186\n",
              "2   neutral     0.244586\n",
              "3  negative     0.201485"
            ]
          },
          "metadata": {},
          "execution_count": 83
        }
      ]
    },
    {
      "cell_type": "code",
      "metadata": {
        "id": "e6shQ3dImjVy",
        "colab": {
          "base_uri": "https://localhost:8080/",
          "height": 458
        },
        "outputId": "91267df2-ae78-4aed-c8ff-8efe8c5ade25"
      },
      "source": [
        "fig = plt.figure(figsize=(25,10))\n",
        "_ = tree.plot_tree(arbol, max_depth=3, feature_names=X.columns, class_names=[\"0\", \"1\"], filled=True, fontsize=9)"
      ],
      "execution_count": 84,
      "outputs": [
        {
          "output_type": "display_data",
          "data": {
            "image/png": "[encoded data removed]",
            "text/plain": [
              "<Figure size 1800x720 with 1 Axes>"
            ]
          },
          "metadata": {
            "needs_background": "light"
          }
        }
      ]
    },
    {
      "cell_type": "markdown",
      "metadata": {
        "id": "PXCMD_ohmzF0"
      },
      "source": [
        "Implementación con K-fold Crossvalidation"
      ]
    },
    {
      "cell_type": "code",
      "metadata": {
        "id": "timF1tM-msu1"
      },
      "source": [
        "\n",
        "# Fijemos el número de particiones. Utilizaremos K = 10.\n",
        "particiones = KFold(n_splits=10, shuffle=True, random_state = 0)"
      ],
      "execution_count": 85,
      "outputs": []
    },
    {
      "cell_type": "code",
      "metadata": {
        "id": "iJeCD8jnm3TJ"
      },
      "source": [
        "# Establecemos el espacio de búsqueda para los hiperparámetros que deseamos ajustar. \n",
        "param_grid = {'criterion':['gini', 'entropy'],'max_depth':[4,6,8,10,20,50,100],'min_samples_split':[2, 3, 4, 5,10,20,50,100]}"
      ],
      "execution_count": 86,
      "outputs": []
    },
    {
      "cell_type": "code",
      "metadata": {
        "id": "qxCtSNOem4yc"
      },
      "source": [
        "# Definimos el modelo sin ningún valor de estos hiperparámetros\n",
        "arbol = DecisionTreeClassifier(random_state=0)"
      ],
      "execution_count": 87,
      "outputs": []
    },
    {
      "cell_type": "code",
      "metadata": {
        "id": "PD9nWvjSm6io",
        "colab": {
          "base_uri": "https://localhost:8080/"
        },
        "outputId": "f867ce18-7db9-4462-a2fc-c78cf0248bcb"
      },
      "source": [
        "# Ahora utilizamos GridSearch sobre el grid definido y con 10 particiones en la validación cruzada.\n",
        "mejor_modelo = GridSearchCV(arbol, param_grid, cv=particiones)\n",
        "# Ajuste del modelo\n",
        "mejor_modelo.fit(X_train, Y_train)"
      ],
      "execution_count": 88,
      "outputs": [
        {
          "output_type": "execute_result",
          "data": {
            "text/plain": [
              "GridSearchCV(cv=KFold(n_splits=10, random_state=0, shuffle=True),\n",
              "             error_score=nan,\n",
              "             estimator=DecisionTreeClassifier(ccp_alpha=0.0, class_weight=None,\n",
              "                                              criterion='gini', max_depth=None,\n",
              "                                              max_features=None,\n",
              "                                              max_leaf_nodes=None,\n",
              "                                              min_impurity_decrease=0.0,\n",
              "                                              min_impurity_split=None,\n",
              "                                              min_samples_leaf=1,\n",
              "                                              min_samples_split=2,\n",
              "                                              min_weight_fraction_leaf=0.0,\n",
              "                                              presort='deprecated',\n",
              "                                              random_state=0, splitter='best'),\n",
              "             iid='deprecated', n_jobs=None,\n",
              "             param_grid={'criterion': ['gini', 'entropy'],\n",
              "                         'max_depth': [4, 6, 8, 10, 20, 50, 100],\n",
              "                         'min_samples_split': [2, 3, 4, 5, 10, 20, 50, 100]},\n",
              "             pre_dispatch='2*n_jobs', refit=True, return_train_score=False,\n",
              "             scoring=None, verbose=0)"
            ]
          },
          "metadata": {},
          "execution_count": 88
        }
      ]
    },
    {
      "cell_type": "code",
      "metadata": {
        "id": "iuK15eWkm_N-",
        "colab": {
          "base_uri": "https://localhost:8080/"
        },
        "outputId": "89d11619-3b76-4cd2-8608-0c3d028028b4"
      },
      "source": [
        "# Podemos ver cuál fue el resultado de la búsqueda (mejores valores de hiperparámetros)\n",
        "mejor_modelo.best_params_"
      ],
      "execution_count": 89,
      "outputs": [
        {
          "output_type": "execute_result",
          "data": {
            "text/plain": [
              "{'criterion': 'gini', 'max_depth': 10, 'min_samples_split': 50}"
            ]
          },
          "metadata": {},
          "execution_count": 89
        }
      ]
    },
    {
      "cell_type": "code",
      "metadata": {
        "id": "jfzGdEC0nB9Z",
        "colab": {
          "base_uri": "https://localhost:8080/"
        },
        "outputId": "1eae3afc-70c3-48e1-91b5-1e45db1b2575"
      },
      "source": [
        "# Obtener el mejor modelo.\n",
        "arbol_final = mejor_modelo.best_estimator_\n",
        "# Probemos ahora este modelo sobre test.\n",
        "y_pred_train = arbol_final.predict(X_train)\n",
        "y_pred_test = arbol_final.predict(X_test)\n",
        "arbol_final =arbol_final.fit(X_train,Y_train)\n",
        "print('Exactitud sobre entrenamiento: %.2f' % accuracy_score(Y_train, y_pred_train))\n",
        "print('Exactitud sobre test: %.2f' % accuracy_score(Y_test, y_pred_test))\n",
        "print('Recall sobre entrenamiento: %.2f' % recall_score(Y_train, y_pred_train))\n",
        "print('Recall sobre test: %.2f' % recall_score(Y_test, y_pred_test))\n",
        "print('Precision sobre entrenamiento: %.2f' % precision_score(Y_train, y_pred_train))\n",
        "print('Precision sobre test: %.2f' % precision_score(Y_test, y_pred_test))\n",
        "print('f1 sobre entrenamiento: %.2f' % f1_score(Y_train, y_pred_train))\n",
        "print('f1 sobre test: %.2f' % f1_score(Y_test, y_pred_test))"
      ],
      "execution_count": 90,
      "outputs": [
        {
          "output_type": "stream",
          "name": "stdout",
          "text": [
            "Exactitud sobre entrenamiento: 0.63\n",
            "Exactitud sobre test: 0.54\n",
            "Recall sobre entrenamiento: 0.86\n",
            "Recall sobre test: 0.77\n",
            "Precision sobre entrenamiento: 0.62\n",
            "Precision sobre test: 0.56\n",
            "f1 sobre entrenamiento: 0.72\n",
            "f1 sobre test: 0.65\n"
          ]
        }
      ]
    },
    {
      "cell_type": "code",
      "metadata": {
        "id": "dVnzfdHLnH6h",
        "colab": {
          "base_uri": "https://localhost:8080/"
        },
        "outputId": "b9595d63-f615-4615-a2c2-1e39e44062ef"
      },
      "source": [
        "print(classification_report(Y_test, y_pred_test))"
      ],
      "execution_count": 91,
      "outputs": [
        {
          "output_type": "stream",
          "name": "stdout",
          "text": [
            "              precision    recall  f1-score   support\n",
            "\n",
            "           0       0.48      0.26      0.33       235\n",
            "           1       0.56      0.77      0.65       292\n",
            "\n",
            "    accuracy                           0.54       527\n",
            "   macro avg       0.52      0.51      0.49       527\n",
            "weighted avg       0.52      0.54      0.51       527\n",
            "\n"
          ]
        }
      ]
    },
    {
      "cell_type": "code",
      "metadata": {
        "id": "Zw3s0TXloNyg"
      },
      "source": [
        ""
      ],
      "execution_count": 91,
      "outputs": []
    },
    {
      "cell_type": "code",
      "metadata": {
        "id": "-0Yos8LWnKEx",
        "colab": {
          "base_uri": "https://localhost:8080/",
          "height": 279
        },
        "outputId": "12cb2c68-2678-40e2-ea53-2746d33b3891"
      },
      "source": [
        "# Se puede visualizar la matriz de confusión\n",
        "plot_confusion_matrix(arbol_final, X_test, Y_test, values_format = '.2f')  \n",
        "plt.show()  "
      ],
      "execution_count": 92,
      "outputs": [
        {
          "output_type": "display_data",
          "data": {
            "image/png": "[encoded data removed]",
            "text/plain": [
              "<Figure size 432x288 with 2 Axes>"
            ]
          },
          "metadata": {
            "needs_background": "light"
          }
        }
      ]
    },
    {
      "cell_type": "code",
      "metadata": {
        "id": "mfpHDT8LnMhU",
        "colab": {
          "base_uri": "https://localhost:8080/"
        },
        "outputId": "fa3a5ead-ad9e-49be-c8aa-d2c36a67f65f"
      },
      "source": [
        "importancia= arbol_final.feature_importances_\n",
        "importancia"
      ],
      "execution_count": 93,
      "outputs": [
        {
          "output_type": "execute_result",
          "data": {
            "text/plain": [
              "array([0.28613745, 0.20182022, 0.23368434, 0.27835799])"
            ]
          },
          "metadata": {},
          "execution_count": 93
        }
      ]
    },
    {
      "cell_type": "code",
      "metadata": {
        "id": "hIqjsZhgnPCi",
        "colab": {
          "base_uri": "https://localhost:8080/",
          "height": 174
        },
        "outputId": "cb5b4c79-4fee-4f0f-caec-338eb84bee7b"
      },
      "source": [
        "importancia_atributo = pd.DataFrame(data={\"Atributo\": X_train.columns,\"Importancia\": importancia})\n",
        "importancia_atributo = importancia_atributo.sort_values(by='Importancia', ascending=False).reset_index(drop=True)\n",
        "importancia_atributo"
      ],
      "execution_count": 94,
      "outputs": [
        {
          "output_type": "execute_result",
          "data": {
            "text/html": [
              "<div>\n",
              "<style scoped>\n",
              "    .dataframe tbody tr th:only-of-type {\n",
              "        vertical-align: middle;\n",
              "    }\n",
              "\n",
              "    .dataframe tbody tr th {\n",
              "        vertical-align: top;\n",
              "    }\n",
              "\n",
              "    .dataframe thead th {\n",
              "        text-align: right;\n",
              "    }\n",
              "</style>\n",
              "<table border=\"1\" class=\"dataframe\">\n",
              "  <thead>\n",
              "    <tr style=\"text-align: right;\">\n",
              "      <th></th>\n",
              "      <th>Atributo</th>\n",
              "      <th>Importancia</th>\n",
              "    </tr>\n",
              "  </thead>\n",
              "  <tbody>\n",
              "    <tr>\n",
              "      <th>0</th>\n",
              "      <td>negative</td>\n",
              "      <td>0.286137</td>\n",
              "    </tr>\n",
              "    <tr>\n",
              "      <th>1</th>\n",
              "      <td>compound</td>\n",
              "      <td>0.278358</td>\n",
              "    </tr>\n",
              "    <tr>\n",
              "      <th>2</th>\n",
              "      <td>positive</td>\n",
              "      <td>0.233684</td>\n",
              "    </tr>\n",
              "    <tr>\n",
              "      <th>3</th>\n",
              "      <td>neutral</td>\n",
              "      <td>0.201820</td>\n",
              "    </tr>\n",
              "  </tbody>\n",
              "</table>\n",
              "</div>"
            ],
            "text/plain": [
              "   Atributo  Importancia\n",
              "0  negative     0.286137\n",
              "1  compound     0.278358\n",
              "2  positive     0.233684\n",
              "3   neutral     0.201820"
            ]
          },
          "metadata": {},
          "execution_count": 94
        }
      ]
    },
    {
      "cell_type": "code",
      "metadata": {
        "id": "v8eykIMRnRRF",
        "colab": {
          "base_uri": "https://localhost:8080/",
          "height": 458
        },
        "outputId": "08fcdd54-7c9a-4222-f9bb-563c61674039"
      },
      "source": [
        "fig = plt.figure(figsize=(25,10))\n",
        "_ = tree.plot_tree(arbol_final, max_depth=3, feature_names=X.columns, class_names=[\"0\", \"1\"], filled=True, fontsize=9)"
      ],
      "execution_count": 95,
      "outputs": [
        {
          "output_type": "display_data",
          "data": {
            "image/png": "[encoded data removed]",
            "text/plain": [
              "<Figure size 1800x720 with 1 Axes>"
            ]
          },
          "metadata": {
            "needs_background": "light"
          }
        }
      ]
    },
    {
      "cell_type": "code",
      "metadata": {
        "id": "AgxVLKMehSf7"
      },
      "source": [
        "# Guarda los resultados del modelo de la regresión logística \n",
        "comparision_table[\"DecisionTree\"] = []\n",
        "comparision_table[\"DecisionTree\"].append(accuracy_score(Y_test, y_pred_test))\n",
        "comparision_table[\"DecisionTree\"].append(recall_score(Y_test, y_pred_test))\n",
        "comparision_table[\"DecisionTree\"].append(precision_score(Y_test, y_pred_test))\n",
        "comparision_table[\"DecisionTree\"].append(f1_score(Y_test, y_pred_test))\n"
      ],
      "execution_count": 96,
      "outputs": []
    },
    {
      "cell_type": "markdown",
      "metadata": {
        "id": "BfpNf42Oia6s"
      },
      "source": [
        "## KNN"
      ]
    },
    {
      "cell_type": "code",
      "metadata": {
        "id": "o_z-STwAic2J"
      },
      "source": [
        "neigh = KNeighborsClassifier(n_neighbors=4) #\n",
        "neigh = neigh.fit(X_train, Y_train) #Encaja el clasificador de los K vecinos mas cercanos"
      ],
      "execution_count": 97,
      "outputs": []
    },
    {
      "cell_type": "code",
      "metadata": {
        "id": "sAt6EbD0igO4"
      },
      "source": [
        "#Prediccion \n",
        "y_pred = neigh.predict(X_test)"
      ],
      "execution_count": 98,
      "outputs": []
    },
    {
      "cell_type": "code",
      "metadata": {
        "id": "b40Hh2o5iiam",
        "colab": {
          "base_uri": "https://localhost:8080/"
        },
        "outputId": "d9d32d93-fb38-4762-8c69-efa822a3ff60"
      },
      "source": [
        "#Matriz confusion\n",
        "confusion_matrix(Y_test, y_pred)"
      ],
      "execution_count": 99,
      "outputs": [
        {
          "output_type": "execute_result",
          "data": {
            "text/plain": [
              "array([[144,  91],\n",
              "       [182, 110]])"
            ]
          },
          "metadata": {},
          "execution_count": 99
        }
      ]
    },
    {
      "cell_type": "code",
      "metadata": {
        "id": "BAKbCAZsil9a",
        "colab": {
          "base_uri": "https://localhost:8080/",
          "height": 296
        },
        "outputId": "1f56c8e2-26f7-4974-92f7-8d950b3d7037"
      },
      "source": [
        "#Matriz confusion\n",
        "plot_confusion_matrix(neigh, X_test, Y_test, values_format = '.2f')  "
      ],
      "execution_count": 100,
      "outputs": [
        {
          "output_type": "execute_result",
          "data": {
            "text/plain": [
              "<sklearn.metrics._plot.confusion_matrix.ConfusionMatrixDisplay at 0x7fa7bbdb6ed0>"
            ]
          },
          "metadata": {},
          "execution_count": 100
        },
        {
          "output_type": "display_data",
          "data": {
            "image/png": "[encoded data removed]",
            "text/plain": [
              "<Figure size 432x288 with 2 Axes>"
            ]
          },
          "metadata": {
            "needs_background": "light"
          }
        }
      ]
    },
    {
      "cell_type": "code",
      "metadata": {
        "id": "NSdBK_SkixuQ",
        "colab": {
          "base_uri": "https://localhost:8080/"
        },
        "outputId": "4ab6ff59-3c4e-4fad-b033-224f04b9d8ba"
      },
      "source": [
        "#Reporte Clasificacion\n",
        "print(classification_report(Y_test, y_pred))"
      ],
      "execution_count": 101,
      "outputs": [
        {
          "output_type": "stream",
          "name": "stdout",
          "text": [
            "              precision    recall  f1-score   support\n",
            "\n",
            "           0       0.44      0.61      0.51       235\n",
            "           1       0.55      0.38      0.45       292\n",
            "\n",
            "    accuracy                           0.48       527\n",
            "   macro avg       0.49      0.49      0.48       527\n",
            "weighted avg       0.50      0.48      0.48       527\n",
            "\n"
          ]
        }
      ]
    },
    {
      "cell_type": "code",
      "metadata": {
        "id": "dfBe6gKFjjCY",
        "colab": {
          "base_uri": "https://localhost:8080/"
        },
        "outputId": "450efea0-2c0d-43b6-8768-193b0a2c480c"
      },
      "source": [
        "print('Exactitud: %.2f' % accuracy_score(Y_test, y_pred))\n",
        "print(\"Recall: {}\".format(recall_score(Y_test,y_pred)))\n",
        "print(\"Precisión: {}\".format(precision_score(Y_test,y_pred)))\n",
        "print(\"Puntuación F1: {}\".format(f1_score(Y_test,y_pred)))"
      ],
      "execution_count": 102,
      "outputs": [
        {
          "output_type": "stream",
          "name": "stdout",
          "text": [
            "Exactitud: 0.48\n",
            "Recall: 0.3767123287671233\n",
            "Precisión: 0.5472636815920398\n",
            "Puntuación F1: 0.4462474645030426\n"
          ]
        }
      ]
    },
    {
      "cell_type": "markdown",
      "metadata": {
        "id": "xXiEgabfjuBV"
      },
      "source": [
        "Cross Validation"
      ]
    },
    {
      "cell_type": "code",
      "metadata": {
        "id": "v3EYDMHCjyIP"
      },
      "source": [
        "# Parametros a modificar: \n",
        "#Numero de vecinos: de 0 a 11\n",
        "n_neighbors = list(range(1,50))\n",
        "n_odd_neighbors = list(filter(lambda x: (x % 2 != 0), n_neighbors))\n",
        "\n",
        "#Funcioon de distancia: Manhatan o Euclidena\n",
        "p=[1,2] "
      ],
      "execution_count": 103,
      "outputs": []
    },
    {
      "cell_type": "code",
      "metadata": {
        "id": "ExYYRg6Wj0GC",
        "colab": {
          "base_uri": "https://localhost:8080/"
        },
        "outputId": "a0157471-53c0-4eda-87eb-65147c14a9de"
      },
      "source": [
        "#Diccionario de hiperparametros\n",
        "hiperparametros = dict(n_neighbors=n_neighbors,p=p)\n",
        "hiperparametros"
      ],
      "execution_count": 104,
      "outputs": [
        {
          "output_type": "execute_result",
          "data": {
            "text/plain": [
              "{'n_neighbors': [1,\n",
              "  2,\n",
              "  3,\n",
              "  4,\n",
              "  5,\n",
              "  6,\n",
              "  7,\n",
              "  8,\n",
              "  9,\n",
              "  10,\n",
              "  11,\n",
              "  12,\n",
              "  13,\n",
              "  14,\n",
              "  15,\n",
              "  16,\n",
              "  17,\n",
              "  18,\n",
              "  19,\n",
              "  20,\n",
              "  21,\n",
              "  22,\n",
              "  23,\n",
              "  24,\n",
              "  25,\n",
              "  26,\n",
              "  27,\n",
              "  28,\n",
              "  29,\n",
              "  30,\n",
              "  31,\n",
              "  32,\n",
              "  33,\n",
              "  34,\n",
              "  35,\n",
              "  36,\n",
              "  37,\n",
              "  38,\n",
              "  39,\n",
              "  40,\n",
              "  41,\n",
              "  42,\n",
              "  43,\n",
              "  44,\n",
              "  45,\n",
              "  46,\n",
              "  47,\n",
              "  48,\n",
              "  49],\n",
              " 'p': [1, 2]}"
            ]
          },
          "metadata": {},
          "execution_count": 104
        }
      ]
    },
    {
      "cell_type": "code",
      "metadata": {
        "id": "slr0TYyrj1gx"
      },
      "source": [
        "#KNN modificado\n",
        "knn_hiper = KNeighborsClassifier()"
      ],
      "execution_count": 105,
      "outputs": []
    },
    {
      "cell_type": "code",
      "metadata": {
        "id": "h_EVfzncj66p"
      },
      "source": [
        "#Grid\n",
        "knn_grid = GridSearchCV(knn_hiper, hiperparametros, cv=10)"
      ],
      "execution_count": 106,
      "outputs": []
    },
    {
      "cell_type": "code",
      "metadata": {
        "id": "3RGzwvZhj8XP",
        "colab": {
          "base_uri": "https://localhost:8080/"
        },
        "outputId": "3eacdabc-7fcf-4f37-8649-652d6fd065be"
      },
      "source": [
        "knn_grid.fit(X_train, Y_train)"
      ],
      "execution_count": 107,
      "outputs": [
        {
          "output_type": "execute_result",
          "data": {
            "text/plain": [
              "GridSearchCV(cv=10, error_score=nan,\n",
              "             estimator=KNeighborsClassifier(algorithm='auto', leaf_size=30,\n",
              "                                            metric='minkowski',\n",
              "                                            metric_params=None, n_jobs=None,\n",
              "                                            n_neighbors=5, p=2,\n",
              "                                            weights='uniform'),\n",
              "             iid='deprecated', n_jobs=None,\n",
              "             param_grid={'n_neighbors': [1, 2, 3, 4, 5, 6, 7, 8, 9, 10, 11, 12,\n",
              "                                         13, 14, 15, 16, 17, 18, 19, 20, 21, 22,\n",
              "                                         23, 24, 25, 26, 27, 28, 29, 30, ...],\n",
              "                         'p': [1, 2]},\n",
              "             pre_dispatch='2*n_jobs', refit=True, return_train_score=False,\n",
              "             scoring=None, verbose=0)"
            ]
          },
          "metadata": {},
          "execution_count": 107
        }
      ]
    },
    {
      "cell_type": "code",
      "metadata": {
        "id": "L2FAiq6gj99-",
        "colab": {
          "base_uri": "https://localhost:8080/"
        },
        "outputId": "7d074870-4032-441b-e3cd-bfcc8e93acd0"
      },
      "source": [
        "#Valor de los hiperparametros con los mejores resultados\n",
        "print('Best p:', knn_grid.best_estimator_.get_params()['p'])\n",
        "print('Best n_neighbors:', knn_grid.best_estimator_.get_params()['n_neighbors'])"
      ],
      "execution_count": 108,
      "outputs": [
        {
          "output_type": "stream",
          "name": "stdout",
          "text": [
            "Best p: 2\n",
            "Best n_neighbors: 29\n"
          ]
        }
      ]
    },
    {
      "cell_type": "code",
      "metadata": {
        "id": "sQ-95Ntpj_AL",
        "colab": {
          "base_uri": "https://localhost:8080/"
        },
        "outputId": "898242c4-f915-4726-d853-a0631dc868ca"
      },
      "source": [
        "knn_grid.best_estimator_.get_params()"
      ],
      "execution_count": 109,
      "outputs": [
        {
          "output_type": "execute_result",
          "data": {
            "text/plain": [
              "{'algorithm': 'auto',\n",
              " 'leaf_size': 30,\n",
              " 'metric': 'minkowski',\n",
              " 'metric_params': None,\n",
              " 'n_jobs': None,\n",
              " 'n_neighbors': 29,\n",
              " 'p': 2,\n",
              " 'weights': 'uniform'}"
            ]
          },
          "metadata": {},
          "execution_count": 109
        }
      ]
    },
    {
      "cell_type": "code",
      "metadata": {
        "id": "9YGbmdk0kBmA"
      },
      "source": [
        "# Mejor modelo.\n",
        "mejor_neigh = knn_grid.best_estimator_"
      ],
      "execution_count": 110,
      "outputs": []
    },
    {
      "cell_type": "code",
      "metadata": {
        "id": "CCYTa1uUkG7k"
      },
      "source": [
        "#Probar el modelo con los datos de prueba\n",
        "y_pred_test = mejor_neigh.predict(X_test)"
      ],
      "execution_count": 111,
      "outputs": []
    },
    {
      "cell_type": "code",
      "metadata": {
        "id": "9LcK5DkbkDcI",
        "colab": {
          "base_uri": "https://localhost:8080/",
          "height": 279
        },
        "outputId": "2c1b0ac0-6d0c-4073-9d8c-4a54b868166c"
      },
      "source": [
        "plot_confusion_matrix(mejor_neigh, X_test, Y_test, values_format = '.2f')  \n",
        "plt.show()"
      ],
      "execution_count": 112,
      "outputs": [
        {
          "output_type": "display_data",
          "data": {
            "image/png": "[encoded data removed]",
            "text/plain": [
              "<Figure size 432x288 with 2 Axes>"
            ]
          },
          "metadata": {
            "needs_background": "light"
          }
        }
      ]
    },
    {
      "cell_type": "code",
      "metadata": {
        "colab": {
          "base_uri": "https://localhost:8080/"
        },
        "id": "xkmpgW4NvrBv",
        "outputId": "880084cb-d80f-4893-81ed-284854212e90"
      },
      "source": [
        "print('Exactitud: %.2f' % accuracy_score(Y_test, y_pred_test))\n",
        "print(\"Recall: {}\".format(recall_score(Y_test,y_pred_test)))\n",
        "print(\"Precisión: {}\".format(precision_score(Y_test,y_pred_test)))\n",
        "print(\"Puntuación F1: {}\".format(f1_score(Y_test,y_pred_test)))"
      ],
      "execution_count": 113,
      "outputs": [
        {
          "output_type": "stream",
          "name": "stdout",
          "text": [
            "Exactitud: 0.52\n",
            "Recall: 0.726027397260274\n",
            "Precisión: 0.5520833333333334\n",
            "Puntuación F1: 0.6272189349112427\n"
          ]
        }
      ]
    },
    {
      "cell_type": "code",
      "metadata": {
        "id": "bGdFoO8MkPeR"
      },
      "source": [
        "# Guarda los resultados del modelo de la regresión logística \n",
        "comparision_table[\"KNN\"] = []\n",
        "comparision_table[\"KNN\"].append(accuracy_score(Y_test, y_pred_test))\n",
        "comparision_table[\"KNN\"].append(recall_score(Y_test, y_pred_test))\n",
        "comparision_table[\"KNN\"].append(precision_score(Y_test, y_pred_test))\n",
        "comparision_table[\"KNN\"].append(f1_score(Y_test, y_pred_test))"
      ],
      "execution_count": 114,
      "outputs": []
    },
    {
      "cell_type": "markdown",
      "metadata": {
        "id": "5fsIlLihhbQX"
      },
      "source": [
        "## Comparación de modelos"
      ]
    },
    {
      "cell_type": "code",
      "metadata": {
        "id": "3e7XW5dEhfFk",
        "colab": {
          "base_uri": "https://localhost:8080/",
          "height": 174
        },
        "outputId": "5c2603c3-482d-4835-b6f4-fa34f73c9909"
      },
      "source": [
        "scores_table = pd.DataFrame(comparision_table, index =['Accuracy', 'Recall', 'Precision Score', 'F1'])  \n",
        "scores_table.round(2)\n"
      ],
      "execution_count": 115,
      "outputs": [
        {
          "output_type": "execute_result",
          "data": {
            "text/html": [
              "<div>\n",
              "<style scoped>\n",
              "    .dataframe tbody tr th:only-of-type {\n",
              "        vertical-align: middle;\n",
              "    }\n",
              "\n",
              "    .dataframe tbody tr th {\n",
              "        vertical-align: top;\n",
              "    }\n",
              "\n",
              "    .dataframe thead th {\n",
              "        text-align: right;\n",
              "    }\n",
              "</style>\n",
              "<table border=\"1\" class=\"dataframe\">\n",
              "  <thead>\n",
              "    <tr style=\"text-align: right;\">\n",
              "      <th></th>\n",
              "      <th>LogisticRegresion</th>\n",
              "      <th>DecisionTree</th>\n",
              "      <th>KNN</th>\n",
              "    </tr>\n",
              "  </thead>\n",
              "  <tbody>\n",
              "    <tr>\n",
              "      <th>Accuracy</th>\n",
              "      <td>0.45</td>\n",
              "      <td>0.54</td>\n",
              "      <td>0.52</td>\n",
              "    </tr>\n",
              "    <tr>\n",
              "      <th>Recall</th>\n",
              "      <td>0.00</td>\n",
              "      <td>0.77</td>\n",
              "      <td>0.73</td>\n",
              "    </tr>\n",
              "    <tr>\n",
              "      <th>Precision Score</th>\n",
              "      <td>0.00</td>\n",
              "      <td>0.56</td>\n",
              "      <td>0.55</td>\n",
              "    </tr>\n",
              "    <tr>\n",
              "      <th>F1</th>\n",
              "      <td>0.00</td>\n",
              "      <td>0.65</td>\n",
              "      <td>0.63</td>\n",
              "    </tr>\n",
              "  </tbody>\n",
              "</table>\n",
              "</div>"
            ],
            "text/plain": [
              "                 LogisticRegresion  DecisionTree   KNN\n",
              "Accuracy                      0.45          0.54  0.52\n",
              "Recall                        0.00          0.77  0.73\n",
              "Precision Score               0.00          0.56  0.55\n",
              "F1                            0.00          0.65  0.63"
            ]
          },
          "metadata": {},
          "execution_count": 115
        }
      ]
    },
    {
      "cell_type": "code",
      "metadata": {
        "id": "DNFun_OrjdQn"
      },
      "source": [
        ""
      ],
      "execution_count": 115,
      "outputs": []
    }
  ]
}